{
 "cells": [
  {
   "cell_type": "markdown",
   "metadata": {},
   "source": [
    "# Diseño de Dataframes para los Endpoints"
   ]
  },
  {
   "cell_type": "markdown",
   "metadata": {},
   "source": [
    "## importacion, limpieza y normalizacion de las tablas a utilizar"
   ]
  },
  {
   "cell_type": "markdown",
   "metadata": {},
   "source": [
    "* importamos la librerias"
   ]
  },
  {
   "cell_type": "code",
   "execution_count": 1,
   "metadata": {},
   "outputs": [],
   "source": [
    "import pandas as pd"
   ]
  },
  {
   "cell_type": "markdown",
   "metadata": {},
   "source": [
    "* hacemos la carga de archivos"
   ]
  },
  {
   "cell_type": "code",
   "execution_count": 2,
   "metadata": {},
   "outputs": [],
   "source": [
    "df_games = pd.read_parquet(\"../Datasets_finales/games_steam.parquet\")\n",
    "df_items = pd.read_parquet(\"../Datasets_finales/user_items.parquet\")\n",
    "df_reviews = pd.read_parquet(\"../Datasets_endpoints/user_reviews_sentiment.parquet\")"
   ]
  },
  {
   "cell_type": "code",
   "execution_count": 3,
   "metadata": {},
   "outputs": [
    {
     "data": {
      "text/html": [
       "<div>\n",
       "<style scoped>\n",
       "    .dataframe tbody tr th:only-of-type {\n",
       "        vertical-align: middle;\n",
       "    }\n",
       "\n",
       "    .dataframe tbody tr th {\n",
       "        vertical-align: top;\n",
       "    }\n",
       "\n",
       "    .dataframe thead th {\n",
       "        text-align: right;\n",
       "    }\n",
       "</style>\n",
       "<table border=\"1\" class=\"dataframe\">\n",
       "  <thead>\n",
       "    <tr style=\"text-align: right;\">\n",
       "      <th></th>\n",
       "      <th>item_id</th>\n",
       "      <th>playtime_forever</th>\n",
       "      <th>user_id</th>\n",
       "      <th>items_count</th>\n",
       "      <th>steam_id</th>\n",
       "    </tr>\n",
       "  </thead>\n",
       "  <tbody>\n",
       "    <tr>\n",
       "      <th>0</th>\n",
       "      <td>10</td>\n",
       "      <td>6.0</td>\n",
       "      <td>76561197970982479</td>\n",
       "      <td>277</td>\n",
       "      <td>76561197970982479</td>\n",
       "    </tr>\n",
       "    <tr>\n",
       "      <th>1</th>\n",
       "      <td>20</td>\n",
       "      <td>0.0</td>\n",
       "      <td>76561197970982479</td>\n",
       "      <td>277</td>\n",
       "      <td>76561197970982479</td>\n",
       "    </tr>\n",
       "  </tbody>\n",
       "</table>\n",
       "</div>"
      ],
      "text/plain": [
       "  item_id  playtime_forever            user_id  items_count           steam_id\n",
       "0      10               6.0  76561197970982479          277  76561197970982479\n",
       "1      20               0.0  76561197970982479          277  76561197970982479"
      ]
     },
     "execution_count": 3,
     "metadata": {},
     "output_type": "execute_result"
    }
   ],
   "source": [
    "df_items.head(2)"
   ]
  },
  {
   "cell_type": "code",
   "execution_count": 4,
   "metadata": {},
   "outputs": [
    {
     "data": {
      "text/html": [
       "<div>\n",
       "<style scoped>\n",
       "    .dataframe tbody tr th:only-of-type {\n",
       "        vertical-align: middle;\n",
       "    }\n",
       "\n",
       "    .dataframe tbody tr th {\n",
       "        vertical-align: top;\n",
       "    }\n",
       "\n",
       "    .dataframe thead th {\n",
       "        text-align: right;\n",
       "    }\n",
       "</style>\n",
       "<table border=\"1\" class=\"dataframe\">\n",
       "  <thead>\n",
       "    <tr style=\"text-align: right;\">\n",
       "      <th></th>\n",
       "      <th>user_id</th>\n",
       "      <th>item_id</th>\n",
       "      <th>recommend</th>\n",
       "      <th>sentiment_analysis</th>\n",
       "    </tr>\n",
       "  </thead>\n",
       "  <tbody>\n",
       "    <tr>\n",
       "      <th>0</th>\n",
       "      <td>76561197970982479</td>\n",
       "      <td>1250</td>\n",
       "      <td>True</td>\n",
       "      <td>2</td>\n",
       "    </tr>\n",
       "    <tr>\n",
       "      <th>1</th>\n",
       "      <td>76561197970982479</td>\n",
       "      <td>22200</td>\n",
       "      <td>True</td>\n",
       "      <td>2</td>\n",
       "    </tr>\n",
       "  </tbody>\n",
       "</table>\n",
       "</div>"
      ],
      "text/plain": [
       "             user_id item_id recommend  sentiment_analysis\n",
       "0  76561197970982479    1250      True                   2\n",
       "1  76561197970982479   22200      True                   2"
      ]
     },
     "execution_count": 4,
     "metadata": {},
     "output_type": "execute_result"
    }
   ],
   "source": [
    "df_reviews.head(2)"
   ]
  },
  {
   "cell_type": "code",
   "execution_count": 5,
   "metadata": {},
   "outputs": [
    {
     "data": {
      "text/html": [
       "<div>\n",
       "<style scoped>\n",
       "    .dataframe tbody tr th:only-of-type {\n",
       "        vertical-align: middle;\n",
       "    }\n",
       "\n",
       "    .dataframe tbody tr th {\n",
       "        vertical-align: top;\n",
       "    }\n",
       "\n",
       "    .dataframe thead th {\n",
       "        text-align: right;\n",
       "    }\n",
       "</style>\n",
       "<table border=\"1\" class=\"dataframe\">\n",
       "  <thead>\n",
       "    <tr style=\"text-align: right;\">\n",
       "      <th></th>\n",
       "      <th>genres</th>\n",
       "      <th>app_name</th>\n",
       "      <th>release_date</th>\n",
       "      <th>price</th>\n",
       "      <th>id_item</th>\n",
       "      <th>developer</th>\n",
       "    </tr>\n",
       "  </thead>\n",
       "  <tbody>\n",
       "    <tr>\n",
       "      <th>0</th>\n",
       "      <td>[Action, Casual, Indie, Simulation, Strategy]</td>\n",
       "      <td>Lost Summoner Kitty</td>\n",
       "      <td>2018-01-04</td>\n",
       "      <td>4.99</td>\n",
       "      <td>761140</td>\n",
       "      <td>Kotoshiro</td>\n",
       "    </tr>\n",
       "    <tr>\n",
       "      <th>1</th>\n",
       "      <td>[Free to Play, Indie, RPG, Strategy]</td>\n",
       "      <td>Ironbound</td>\n",
       "      <td>2018-01-04</td>\n",
       "      <td>free</td>\n",
       "      <td>643980</td>\n",
       "      <td>Secret Level SRL</td>\n",
       "    </tr>\n",
       "  </tbody>\n",
       "</table>\n",
       "</div>"
      ],
      "text/plain": [
       "                                          genres             app_name  \\\n",
       "0  [Action, Casual, Indie, Simulation, Strategy]  Lost Summoner Kitty   \n",
       "1           [Free to Play, Indie, RPG, Strategy]            Ironbound   \n",
       "\n",
       "  release_date price  id_item         developer  \n",
       "0   2018-01-04  4.99   761140         Kotoshiro  \n",
       "1   2018-01-04  free   643980  Secret Level SRL  "
      ]
     },
     "execution_count": 5,
     "metadata": {},
     "output_type": "execute_result"
    }
   ],
   "source": [
    "df_games.head(2)"
   ]
  },
  {
   "cell_type": "markdown",
   "metadata": {},
   "source": [
    "### tablas finales para el uso de las consultas\n",
    "![Tabla dividido por las solicitudes de las consulta](../_src/Tabla_Endpoints.jpg)"
   ]
  },
  {
   "cell_type": "markdown",
   "metadata": {},
   "source": [
    "### Limpieza y Normalizacion de Games"
   ]
  },
  {
   "cell_type": "markdown",
   "metadata": {},
   "source": [
    "* **funcion para tomar el primer elemento de la lista de generos**"
   ]
  },
  {
   "cell_type": "code",
   "execution_count": 6,
   "metadata": {},
   "outputs": [],
   "source": [
    "def primer_genre(lista):\n",
    "    if isinstance(lista, object) and lista is not None:\n",
    "        return lista[0]\n",
    "    else:\n",
    "        return None"
   ]
  },
  {
   "cell_type": "markdown",
   "metadata": {},
   "source": [
    "* sacamos el primer genero de cada juego"
   ]
  },
  {
   "cell_type": "code",
   "execution_count": 7,
   "metadata": {},
   "outputs": [],
   "source": [
    "df_games[\"genre\"] = df_games['genres'].apply(primer_genre)"
   ]
  },
  {
   "cell_type": "markdown",
   "metadata": {},
   "source": [
    "* sacamos el año de release_date y los nulos lo ponemos en 0 y convertimos en enteros a los años"
   ]
  },
  {
   "cell_type": "code",
   "execution_count": 8,
   "metadata": {},
   "outputs": [],
   "source": [
    "df_games[\"año\"] = df_games[\"release_date\"].dt.year\n",
    "df_games[\"año\"] = df_games[\"año\"].fillna(0)\n",
    "df_games[\"año\"] = df_games[\"año\"].astype(int)"
   ]
  },
  {
   "cell_type": "markdown",
   "metadata": {},
   "source": [
    "* vamos a renombrar id_item a item_id y reordenar las columnas"
   ]
  },
  {
   "cell_type": "code",
   "execution_count": 9,
   "metadata": {},
   "outputs": [],
   "source": [
    "columnas_a_eliminar_games = [\"genres\",\"app_name\",\"release_date\"]\n",
    "columnas_a_eliminar_items = [\"items_count\",\"steam_id\"]\n",
    "df_games = df_games.drop(columnas_a_eliminar_games,axis=1)\n",
    "df_items = df_items.drop(columnas_a_eliminar_items,axis=1)"
   ]
  },
  {
   "cell_type": "code",
   "execution_count": 10,
   "metadata": {},
   "outputs": [
    {
     "data": {
      "text/html": [
       "<div>\n",
       "<style scoped>\n",
       "    .dataframe tbody tr th:only-of-type {\n",
       "        vertical-align: middle;\n",
       "    }\n",
       "\n",
       "    .dataframe tbody tr th {\n",
       "        vertical-align: top;\n",
       "    }\n",
       "\n",
       "    .dataframe thead th {\n",
       "        text-align: right;\n",
       "    }\n",
       "</style>\n",
       "<table border=\"1\" class=\"dataframe\">\n",
       "  <thead>\n",
       "    <tr style=\"text-align: right;\">\n",
       "      <th></th>\n",
       "      <th>item_id</th>\n",
       "      <th>price</th>\n",
       "      <th>genre</th>\n",
       "      <th>año</th>\n",
       "      <th>developer</th>\n",
       "    </tr>\n",
       "  </thead>\n",
       "  <tbody>\n",
       "    <tr>\n",
       "      <th>0</th>\n",
       "      <td>761140</td>\n",
       "      <td>4.99</td>\n",
       "      <td>Action</td>\n",
       "      <td>2018</td>\n",
       "      <td>Kotoshiro</td>\n",
       "    </tr>\n",
       "    <tr>\n",
       "      <th>1</th>\n",
       "      <td>643980</td>\n",
       "      <td>free</td>\n",
       "      <td>Free to Play</td>\n",
       "      <td>2018</td>\n",
       "      <td>Secret Level SRL</td>\n",
       "    </tr>\n",
       "    <tr>\n",
       "      <th>2</th>\n",
       "      <td>670290</td>\n",
       "      <td>free</td>\n",
       "      <td>Casual</td>\n",
       "      <td>2017</td>\n",
       "      <td>Poolians.com</td>\n",
       "    </tr>\n",
       "    <tr>\n",
       "      <th>3</th>\n",
       "      <td>767400</td>\n",
       "      <td>0.99</td>\n",
       "      <td>Action</td>\n",
       "      <td>2017</td>\n",
       "      <td>彼岸领域</td>\n",
       "    </tr>\n",
       "    <tr>\n",
       "      <th>4</th>\n",
       "      <td>773570</td>\n",
       "      <td>2.99</td>\n",
       "      <td>None</td>\n",
       "      <td>0</td>\n",
       "      <td>None</td>\n",
       "    </tr>\n",
       "  </tbody>\n",
       "</table>\n",
       "</div>"
      ],
      "text/plain": [
       "   item_id price         genre   año         developer\n",
       "0   761140  4.99        Action  2018         Kotoshiro\n",
       "1   643980  free  Free to Play  2018  Secret Level SRL\n",
       "2   670290  free        Casual  2017      Poolians.com\n",
       "3   767400  0.99        Action  2017              彼岸领域\n",
       "4   773570  2.99          None     0              None"
      ]
     },
     "execution_count": 10,
     "metadata": {},
     "output_type": "execute_result"
    }
   ],
   "source": [
    "df_games.rename(columns={\"id_item\":\"item_id\"},inplace=True)\n",
    "ordenar_games = [\"item_id\",\"price\",\"genre\",\"año\",\"developer\"]\n",
    "df_games = df_games[ordenar_games]\n",
    "df_games.head(5)"
   ]
  },
  {
   "cell_type": "markdown",
   "metadata": {},
   "source": [
    "* convertimos a minusculas la columna de developer y genre por si se pone mal alguna letra en formato mayuscula-minuscula"
   ]
  },
  {
   "cell_type": "code",
   "execution_count": 11,
   "metadata": {},
   "outputs": [],
   "source": [
    "df_games[\"developer\"] = df_games[\"developer\"].str.lower()\n",
    "df_games[\"genre\"] = df_games[\"genre\"].str.lower()"
   ]
  },
  {
   "cell_type": "code",
   "execution_count": 12,
   "metadata": {},
   "outputs": [
    {
     "data": {
      "text/html": [
       "<div>\n",
       "<style scoped>\n",
       "    .dataframe tbody tr th:only-of-type {\n",
       "        vertical-align: middle;\n",
       "    }\n",
       "\n",
       "    .dataframe tbody tr th {\n",
       "        vertical-align: top;\n",
       "    }\n",
       "\n",
       "    .dataframe thead th {\n",
       "        text-align: right;\n",
       "    }\n",
       "</style>\n",
       "<table border=\"1\" class=\"dataframe\">\n",
       "  <thead>\n",
       "    <tr style=\"text-align: right;\">\n",
       "      <th></th>\n",
       "      <th>item_id</th>\n",
       "      <th>price</th>\n",
       "      <th>genre</th>\n",
       "      <th>año</th>\n",
       "      <th>developer</th>\n",
       "    </tr>\n",
       "  </thead>\n",
       "  <tbody>\n",
       "    <tr>\n",
       "      <th>0</th>\n",
       "      <td>761140</td>\n",
       "      <td>4.99</td>\n",
       "      <td>action</td>\n",
       "      <td>2018</td>\n",
       "      <td>kotoshiro</td>\n",
       "    </tr>\n",
       "    <tr>\n",
       "      <th>1</th>\n",
       "      <td>643980</td>\n",
       "      <td>free</td>\n",
       "      <td>free to play</td>\n",
       "      <td>2018</td>\n",
       "      <td>secret level srl</td>\n",
       "    </tr>\n",
       "    <tr>\n",
       "      <th>2</th>\n",
       "      <td>670290</td>\n",
       "      <td>free</td>\n",
       "      <td>casual</td>\n",
       "      <td>2017</td>\n",
       "      <td>poolians.com</td>\n",
       "    </tr>\n",
       "    <tr>\n",
       "      <th>3</th>\n",
       "      <td>767400</td>\n",
       "      <td>0.99</td>\n",
       "      <td>action</td>\n",
       "      <td>2017</td>\n",
       "      <td>彼岸领域</td>\n",
       "    </tr>\n",
       "    <tr>\n",
       "      <th>4</th>\n",
       "      <td>773570</td>\n",
       "      <td>2.99</td>\n",
       "      <td>None</td>\n",
       "      <td>0</td>\n",
       "      <td>None</td>\n",
       "    </tr>\n",
       "  </tbody>\n",
       "</table>\n",
       "</div>"
      ],
      "text/plain": [
       "   item_id price         genre   año         developer\n",
       "0   761140  4.99        action  2018         kotoshiro\n",
       "1   643980  free  free to play  2018  secret level srl\n",
       "2   670290  free        casual  2017      poolians.com\n",
       "3   767400  0.99        action  2017              彼岸领域\n",
       "4   773570  2.99          None     0              None"
      ]
     },
     "execution_count": 12,
     "metadata": {},
     "output_type": "execute_result"
    }
   ],
   "source": [
    "df_games.head(5)"
   ]
  },
  {
   "cell_type": "markdown",
   "metadata": {},
   "source": [
    "### Limpieza y Normalizacion de Items"
   ]
  },
  {
   "cell_type": "markdown",
   "metadata": {},
   "source": [
    "* hacemos un chequeo de los nulos de la tabla items y borramos los datos nulos que seas necesarios"
   ]
  },
  {
   "cell_type": "code",
   "execution_count": 13,
   "metadata": {},
   "outputs": [
    {
     "data": {
      "text/html": [
       "<div>\n",
       "<style scoped>\n",
       "    .dataframe tbody tr th:only-of-type {\n",
       "        vertical-align: middle;\n",
       "    }\n",
       "\n",
       "    .dataframe tbody tr th {\n",
       "        vertical-align: top;\n",
       "    }\n",
       "\n",
       "    .dataframe thead th {\n",
       "        text-align: right;\n",
       "    }\n",
       "</style>\n",
       "<table border=\"1\" class=\"dataframe\">\n",
       "  <thead>\n",
       "    <tr style=\"text-align: right;\">\n",
       "      <th></th>\n",
       "      <th>item_id</th>\n",
       "      <th>playtime_forever</th>\n",
       "      <th>user_id</th>\n",
       "    </tr>\n",
       "  </thead>\n",
       "  <tbody>\n",
       "    <tr>\n",
       "      <th>3733</th>\n",
       "      <td>None</td>\n",
       "      <td>NaN</td>\n",
       "      <td>Wackky</td>\n",
       "    </tr>\n",
       "    <tr>\n",
       "      <th>3849</th>\n",
       "      <td>None</td>\n",
       "      <td>NaN</td>\n",
       "      <td>76561198079601835</td>\n",
       "    </tr>\n",
       "    <tr>\n",
       "      <th>6019</th>\n",
       "      <td>None</td>\n",
       "      <td>NaN</td>\n",
       "      <td>hellom8o</td>\n",
       "    </tr>\n",
       "    <tr>\n",
       "      <th>6523</th>\n",
       "      <td>None</td>\n",
       "      <td>NaN</td>\n",
       "      <td>starkillershadow553</td>\n",
       "    </tr>\n",
       "    <tr>\n",
       "      <th>7237</th>\n",
       "      <td>None</td>\n",
       "      <td>NaN</td>\n",
       "      <td>darkenkane</td>\n",
       "    </tr>\n",
       "  </tbody>\n",
       "</table>\n",
       "</div>"
      ],
      "text/plain": [
       "     item_id  playtime_forever              user_id\n",
       "3733    None               NaN               Wackky\n",
       "3849    None               NaN    76561198079601835\n",
       "6019    None               NaN             hellom8o\n",
       "6523    None               NaN  starkillershadow553\n",
       "7237    None               NaN           darkenkane"
      ]
     },
     "execution_count": 13,
     "metadata": {},
     "output_type": "execute_result"
    }
   ],
   "source": [
    "df_items[df_items[\"item_id\"].isna()].head(5)"
   ]
  },
  {
   "cell_type": "code",
   "execution_count": 14,
   "metadata": {},
   "outputs": [
    {
     "data": {
      "text/html": [
       "<div>\n",
       "<style scoped>\n",
       "    .dataframe tbody tr th:only-of-type {\n",
       "        vertical-align: middle;\n",
       "    }\n",
       "\n",
       "    .dataframe tbody tr th {\n",
       "        vertical-align: top;\n",
       "    }\n",
       "\n",
       "    .dataframe thead th {\n",
       "        text-align: right;\n",
       "    }\n",
       "</style>\n",
       "<table border=\"1\" class=\"dataframe\">\n",
       "  <thead>\n",
       "    <tr style=\"text-align: right;\">\n",
       "      <th></th>\n",
       "      <th>item_id</th>\n",
       "      <th>playtime_forever</th>\n",
       "      <th>user_id</th>\n",
       "    </tr>\n",
       "  </thead>\n",
       "  <tbody>\n",
       "    <tr>\n",
       "      <th>3733</th>\n",
       "      <td>None</td>\n",
       "      <td>NaN</td>\n",
       "      <td>Wackky</td>\n",
       "    </tr>\n",
       "    <tr>\n",
       "      <th>3849</th>\n",
       "      <td>None</td>\n",
       "      <td>NaN</td>\n",
       "      <td>76561198079601835</td>\n",
       "    </tr>\n",
       "    <tr>\n",
       "      <th>6019</th>\n",
       "      <td>None</td>\n",
       "      <td>NaN</td>\n",
       "      <td>hellom8o</td>\n",
       "    </tr>\n",
       "    <tr>\n",
       "      <th>6523</th>\n",
       "      <td>None</td>\n",
       "      <td>NaN</td>\n",
       "      <td>starkillershadow553</td>\n",
       "    </tr>\n",
       "    <tr>\n",
       "      <th>7237</th>\n",
       "      <td>None</td>\n",
       "      <td>NaN</td>\n",
       "      <td>darkenkane</td>\n",
       "    </tr>\n",
       "  </tbody>\n",
       "</table>\n",
       "</div>"
      ],
      "text/plain": [
       "     item_id  playtime_forever              user_id\n",
       "3733    None               NaN               Wackky\n",
       "3849    None               NaN    76561198079601835\n",
       "6019    None               NaN             hellom8o\n",
       "6523    None               NaN  starkillershadow553\n",
       "7237    None               NaN           darkenkane"
      ]
     },
     "execution_count": 14,
     "metadata": {},
     "output_type": "execute_result"
    }
   ],
   "source": [
    "df_items[df_items[\"playtime_forever\"].isna()].head(5)"
   ]
  },
  {
   "cell_type": "markdown",
   "metadata": {},
   "source": [
    "* tanto item_id como playtime_forever tienen nulos, lo mas importante es limpiar los item_id ya que es importante al igual que user_id."
   ]
  },
  {
   "cell_type": "code",
   "execution_count": 15,
   "metadata": {},
   "outputs": [],
   "source": [
    "df_items.dropna(subset=\"item_id\",inplace=True)"
   ]
  },
  {
   "cell_type": "markdown",
   "metadata": {},
   "source": [
    "* hacemos un chequeo de los tipo de formato que estan los datos, y vamos a convertir el item_id en enteros"
   ]
  },
  {
   "cell_type": "code",
   "execution_count": 16,
   "metadata": {},
   "outputs": [
    {
     "name": "stdout",
     "output_type": "stream",
     "text": [
      "<class 'pandas.core.frame.DataFrame'>\n",
      "Index: 5094082 entries, 0 to 5110794\n",
      "Data columns (total 3 columns):\n",
      " #   Column            Dtype  \n",
      "---  ------            -----  \n",
      " 0   item_id           object \n",
      " 1   playtime_forever  float64\n",
      " 2   user_id           object \n",
      "dtypes: float64(1), object(2)\n",
      "memory usage: 155.5+ MB\n"
     ]
    }
   ],
   "source": [
    "df_items.info()"
   ]
  },
  {
   "cell_type": "code",
   "execution_count": 17,
   "metadata": {},
   "outputs": [],
   "source": [
    "df_items[\"item_id\"] = df_items[\"item_id\"].astype(int)"
   ]
  },
  {
   "cell_type": "markdown",
   "metadata": {},
   "source": [
    "* hacemos una normalizacion a minuscula de los User"
   ]
  },
  {
   "cell_type": "code",
   "execution_count": 18,
   "metadata": {},
   "outputs": [],
   "source": [
    "df_items[\"user_id\"] = df_items[\"user_id\"].str.lower()"
   ]
  },
  {
   "cell_type": "markdown",
   "metadata": {},
   "source": [
    "* ya quedó listo nuestra tabla items"
   ]
  },
  {
   "cell_type": "code",
   "execution_count": 19,
   "metadata": {},
   "outputs": [
    {
     "data": {
      "text/html": [
       "<div>\n",
       "<style scoped>\n",
       "    .dataframe tbody tr th:only-of-type {\n",
       "        vertical-align: middle;\n",
       "    }\n",
       "\n",
       "    .dataframe tbody tr th {\n",
       "        vertical-align: top;\n",
       "    }\n",
       "\n",
       "    .dataframe thead th {\n",
       "        text-align: right;\n",
       "    }\n",
       "</style>\n",
       "<table border=\"1\" class=\"dataframe\">\n",
       "  <thead>\n",
       "    <tr style=\"text-align: right;\">\n",
       "      <th></th>\n",
       "      <th>item_id</th>\n",
       "      <th>playtime_forever</th>\n",
       "      <th>user_id</th>\n",
       "    </tr>\n",
       "  </thead>\n",
       "  <tbody>\n",
       "    <tr>\n",
       "      <th>0</th>\n",
       "      <td>10</td>\n",
       "      <td>6.0</td>\n",
       "      <td>76561197970982479</td>\n",
       "    </tr>\n",
       "    <tr>\n",
       "      <th>1</th>\n",
       "      <td>20</td>\n",
       "      <td>0.0</td>\n",
       "      <td>76561197970982479</td>\n",
       "    </tr>\n",
       "    <tr>\n",
       "      <th>2</th>\n",
       "      <td>30</td>\n",
       "      <td>7.0</td>\n",
       "      <td>76561197970982479</td>\n",
       "    </tr>\n",
       "    <tr>\n",
       "      <th>3</th>\n",
       "      <td>40</td>\n",
       "      <td>0.0</td>\n",
       "      <td>76561197970982479</td>\n",
       "    </tr>\n",
       "    <tr>\n",
       "      <th>4</th>\n",
       "      <td>50</td>\n",
       "      <td>0.0</td>\n",
       "      <td>76561197970982479</td>\n",
       "    </tr>\n",
       "  </tbody>\n",
       "</table>\n",
       "</div>"
      ],
      "text/plain": [
       "   item_id  playtime_forever            user_id\n",
       "0       10               6.0  76561197970982479\n",
       "1       20               0.0  76561197970982479\n",
       "2       30               7.0  76561197970982479\n",
       "3       40               0.0  76561197970982479\n",
       "4       50               0.0  76561197970982479"
      ]
     },
     "execution_count": 19,
     "metadata": {},
     "output_type": "execute_result"
    }
   ],
   "source": [
    "df_items.head(5)"
   ]
  },
  {
   "cell_type": "markdown",
   "metadata": {},
   "source": [
    "### Limpieza y normalizacion de Reviews"
   ]
  },
  {
   "cell_type": "markdown",
   "metadata": {},
   "source": [
    "* Hacemos un chequeo de los nulos y hacemos la limpieza"
   ]
  },
  {
   "cell_type": "code",
   "execution_count": 20,
   "metadata": {},
   "outputs": [
    {
     "data": {
      "text/html": [
       "<div>\n",
       "<style scoped>\n",
       "    .dataframe tbody tr th:only-of-type {\n",
       "        vertical-align: middle;\n",
       "    }\n",
       "\n",
       "    .dataframe tbody tr th {\n",
       "        vertical-align: top;\n",
       "    }\n",
       "\n",
       "    .dataframe thead th {\n",
       "        text-align: right;\n",
       "    }\n",
       "</style>\n",
       "<table border=\"1\" class=\"dataframe\">\n",
       "  <thead>\n",
       "    <tr style=\"text-align: right;\">\n",
       "      <th></th>\n",
       "      <th>user_id</th>\n",
       "      <th>item_id</th>\n",
       "      <th>recommend</th>\n",
       "      <th>sentiment_analysis</th>\n",
       "    </tr>\n",
       "  </thead>\n",
       "  <tbody>\n",
       "    <tr>\n",
       "      <th>137</th>\n",
       "      <td>gdxsd</td>\n",
       "      <td>None</td>\n",
       "      <td>None</td>\n",
       "      <td>1</td>\n",
       "    </tr>\n",
       "    <tr>\n",
       "      <th>177</th>\n",
       "      <td>76561198094224872</td>\n",
       "      <td>None</td>\n",
       "      <td>None</td>\n",
       "      <td>1</td>\n",
       "    </tr>\n",
       "    <tr>\n",
       "      <th>2558</th>\n",
       "      <td>76561198021575394</td>\n",
       "      <td>None</td>\n",
       "      <td>None</td>\n",
       "      <td>1</td>\n",
       "    </tr>\n",
       "    <tr>\n",
       "      <th>9956</th>\n",
       "      <td>cmuir37</td>\n",
       "      <td>None</td>\n",
       "      <td>None</td>\n",
       "      <td>1</td>\n",
       "    </tr>\n",
       "    <tr>\n",
       "      <th>13528</th>\n",
       "      <td>Jaysteeny</td>\n",
       "      <td>None</td>\n",
       "      <td>None</td>\n",
       "      <td>1</td>\n",
       "    </tr>\n",
       "  </tbody>\n",
       "</table>\n",
       "</div>"
      ],
      "text/plain": [
       "                 user_id item_id recommend  sentiment_analysis\n",
       "137                gdxsd    None      None                   1\n",
       "177    76561198094224872    None      None                   1\n",
       "2558   76561198021575394    None      None                   1\n",
       "9956             cmuir37    None      None                   1\n",
       "13528          Jaysteeny    None      None                   1"
      ]
     },
     "execution_count": 20,
     "metadata": {},
     "output_type": "execute_result"
    }
   ],
   "source": [
    "df_reviews[df_reviews[\"item_id\"].isna()].head(5)"
   ]
  },
  {
   "cell_type": "code",
   "execution_count": 21,
   "metadata": {},
   "outputs": [
    {
     "name": "stdout",
     "output_type": "stream",
     "text": [
      "<class 'pandas.core.frame.DataFrame'>\n",
      "Index: 58430 entries, 0 to 58457\n",
      "Data columns (total 4 columns):\n",
      " #   Column              Non-Null Count  Dtype \n",
      "---  ------              --------------  ----- \n",
      " 0   user_id             58430 non-null  object\n",
      " 1   item_id             58430 non-null  object\n",
      " 2   recommend           58430 non-null  object\n",
      " 3   sentiment_analysis  58430 non-null  int64 \n",
      "dtypes: int64(1), object(3)\n",
      "memory usage: 2.2+ MB\n"
     ]
    }
   ],
   "source": [
    "df_reviews.dropna(subset=[\"item_id\"],inplace=True)\n",
    "df_reviews.info()"
   ]
  },
  {
   "cell_type": "markdown",
   "metadata": {},
   "source": [
    "* convertimos user_id a minusculas"
   ]
  },
  {
   "cell_type": "code",
   "execution_count": 22,
   "metadata": {},
   "outputs": [],
   "source": [
    "df_reviews[\"user_id\"] = df_reviews[\"user_id\"].str.lower()"
   ]
  },
  {
   "cell_type": "markdown",
   "metadata": {},
   "source": [
    "* ya tenemos la tabla limpio de nulos, a lo que procedemos a convertir los item_id en formato entero "
   ]
  },
  {
   "cell_type": "code",
   "execution_count": 23,
   "metadata": {},
   "outputs": [
    {
     "data": {
      "text/html": [
       "<div>\n",
       "<style scoped>\n",
       "    .dataframe tbody tr th:only-of-type {\n",
       "        vertical-align: middle;\n",
       "    }\n",
       "\n",
       "    .dataframe tbody tr th {\n",
       "        vertical-align: top;\n",
       "    }\n",
       "\n",
       "    .dataframe thead th {\n",
       "        text-align: right;\n",
       "    }\n",
       "</style>\n",
       "<table border=\"1\" class=\"dataframe\">\n",
       "  <thead>\n",
       "    <tr style=\"text-align: right;\">\n",
       "      <th></th>\n",
       "      <th>user_id</th>\n",
       "      <th>item_id</th>\n",
       "      <th>recommend</th>\n",
       "      <th>sentiment_analysis</th>\n",
       "    </tr>\n",
       "  </thead>\n",
       "  <tbody>\n",
       "    <tr>\n",
       "      <th>0</th>\n",
       "      <td>76561197970982479</td>\n",
       "      <td>1250</td>\n",
       "      <td>True</td>\n",
       "      <td>2</td>\n",
       "    </tr>\n",
       "    <tr>\n",
       "      <th>1</th>\n",
       "      <td>76561197970982479</td>\n",
       "      <td>22200</td>\n",
       "      <td>True</td>\n",
       "      <td>2</td>\n",
       "    </tr>\n",
       "    <tr>\n",
       "      <th>2</th>\n",
       "      <td>76561197970982479</td>\n",
       "      <td>43110</td>\n",
       "      <td>True</td>\n",
       "      <td>2</td>\n",
       "    </tr>\n",
       "    <tr>\n",
       "      <th>3</th>\n",
       "      <td>js41637</td>\n",
       "      <td>251610</td>\n",
       "      <td>True</td>\n",
       "      <td>2</td>\n",
       "    </tr>\n",
       "    <tr>\n",
       "      <th>4</th>\n",
       "      <td>js41637</td>\n",
       "      <td>227300</td>\n",
       "      <td>True</td>\n",
       "      <td>2</td>\n",
       "    </tr>\n",
       "  </tbody>\n",
       "</table>\n",
       "</div>"
      ],
      "text/plain": [
       "             user_id  item_id recommend  sentiment_analysis\n",
       "0  76561197970982479     1250      True                   2\n",
       "1  76561197970982479    22200      True                   2\n",
       "2  76561197970982479    43110      True                   2\n",
       "3            js41637   251610      True                   2\n",
       "4            js41637   227300      True                   2"
      ]
     },
     "execution_count": 23,
     "metadata": {},
     "output_type": "execute_result"
    }
   ],
   "source": [
    "df_reviews[\"item_id\"] = df_reviews[\"item_id\"].astype(int)\n",
    "df_reviews.head()"
   ]
  },
  {
   "cell_type": "markdown",
   "metadata": {},
   "source": [
    "### **ya tenemos todas las tablas limpias hasta donde se puede para no evitar perdida de datos y la normalización para la futura unión de las tablas**"
   ]
  },
  {
   "cell_type": "markdown",
   "metadata": {},
   "source": [
    "## Diseño de Endpoints para las consultas de la API"
   ]
  },
  {
   "cell_type": "markdown",
   "metadata": {},
   "source": [
    "### Consulta 1: Def developer(desarrollador: str), Debe devolver Cantidad de items y porcentaje de contenido Free por año según empresa desarrolladora."
   ]
  },
  {
   "cell_type": "markdown",
   "metadata": {},
   "source": [
    "* copiamos la tabla de games y creamos el endpoint para la consulta 1"
   ]
  },
  {
   "cell_type": "code",
   "execution_count": 24,
   "metadata": {},
   "outputs": [
    {
     "data": {
      "text/html": [
       "<div>\n",
       "<style scoped>\n",
       "    .dataframe tbody tr th:only-of-type {\n",
       "        vertical-align: middle;\n",
       "    }\n",
       "\n",
       "    .dataframe tbody tr th {\n",
       "        vertical-align: top;\n",
       "    }\n",
       "\n",
       "    .dataframe thead th {\n",
       "        text-align: right;\n",
       "    }\n",
       "</style>\n",
       "<table border=\"1\" class=\"dataframe\">\n",
       "  <thead>\n",
       "    <tr style=\"text-align: right;\">\n",
       "      <th></th>\n",
       "      <th>item_id</th>\n",
       "      <th>price</th>\n",
       "      <th>genre</th>\n",
       "      <th>año</th>\n",
       "      <th>developer</th>\n",
       "    </tr>\n",
       "  </thead>\n",
       "  <tbody>\n",
       "    <tr>\n",
       "      <th>0</th>\n",
       "      <td>761140</td>\n",
       "      <td>4.99</td>\n",
       "      <td>action</td>\n",
       "      <td>2018</td>\n",
       "      <td>kotoshiro</td>\n",
       "    </tr>\n",
       "    <tr>\n",
       "      <th>1</th>\n",
       "      <td>643980</td>\n",
       "      <td>free</td>\n",
       "      <td>free to play</td>\n",
       "      <td>2018</td>\n",
       "      <td>secret level srl</td>\n",
       "    </tr>\n",
       "    <tr>\n",
       "      <th>2</th>\n",
       "      <td>670290</td>\n",
       "      <td>free</td>\n",
       "      <td>casual</td>\n",
       "      <td>2017</td>\n",
       "      <td>poolians.com</td>\n",
       "    </tr>\n",
       "    <tr>\n",
       "      <th>3</th>\n",
       "      <td>767400</td>\n",
       "      <td>0.99</td>\n",
       "      <td>action</td>\n",
       "      <td>2017</td>\n",
       "      <td>彼岸领域</td>\n",
       "    </tr>\n",
       "    <tr>\n",
       "      <th>4</th>\n",
       "      <td>773570</td>\n",
       "      <td>2.99</td>\n",
       "      <td>None</td>\n",
       "      <td>0</td>\n",
       "      <td>None</td>\n",
       "    </tr>\n",
       "    <tr>\n",
       "      <th>...</th>\n",
       "      <td>...</td>\n",
       "      <td>...</td>\n",
       "      <td>...</td>\n",
       "      <td>...</td>\n",
       "      <td>...</td>\n",
       "    </tr>\n",
       "    <tr>\n",
       "      <th>32128</th>\n",
       "      <td>773640</td>\n",
       "      <td>1.99</td>\n",
       "      <td>casual</td>\n",
       "      <td>2018</td>\n",
       "      <td>nikita \"ghost_rus\"</td>\n",
       "    </tr>\n",
       "    <tr>\n",
       "      <th>32129</th>\n",
       "      <td>733530</td>\n",
       "      <td>4.99</td>\n",
       "      <td>casual</td>\n",
       "      <td>2018</td>\n",
       "      <td>sacada</td>\n",
       "    </tr>\n",
       "    <tr>\n",
       "      <th>32130</th>\n",
       "      <td>610660</td>\n",
       "      <td>1.99</td>\n",
       "      <td>indie</td>\n",
       "      <td>2018</td>\n",
       "      <td>laush dmitriy sergeevich</td>\n",
       "    </tr>\n",
       "    <tr>\n",
       "      <th>32131</th>\n",
       "      <td>658870</td>\n",
       "      <td>4.99</td>\n",
       "      <td>casual</td>\n",
       "      <td>2017</td>\n",
       "      <td>xropi,stev3ns</td>\n",
       "    </tr>\n",
       "    <tr>\n",
       "      <th>32132</th>\n",
       "      <td>681550</td>\n",
       "      <td>4.99</td>\n",
       "      <td>None</td>\n",
       "      <td>0</td>\n",
       "      <td>None</td>\n",
       "    </tr>\n",
       "  </tbody>\n",
       "</table>\n",
       "<p>32133 rows × 5 columns</p>\n",
       "</div>"
      ],
      "text/plain": [
       "       item_id price         genre   año                 developer\n",
       "0       761140  4.99        action  2018                 kotoshiro\n",
       "1       643980  free  free to play  2018          secret level srl\n",
       "2       670290  free        casual  2017              poolians.com\n",
       "3       767400  0.99        action  2017                      彼岸领域\n",
       "4       773570  2.99          None     0                      None\n",
       "...        ...   ...           ...   ...                       ...\n",
       "32128   773640  1.99        casual  2018        nikita \"ghost_rus\"\n",
       "32129   733530  4.99        casual  2018                    sacada\n",
       "32130   610660  1.99         indie  2018  laush dmitriy sergeevich\n",
       "32131   658870  4.99        casual  2017             xropi,stev3ns\n",
       "32132   681550  4.99          None     0                      None\n",
       "\n",
       "[32133 rows x 5 columns]"
      ]
     },
     "execution_count": 24,
     "metadata": {},
     "output_type": "execute_result"
    }
   ],
   "source": [
    "df_developer = df_games.copy()\n",
    "df_developer"
   ]
  },
  {
   "cell_type": "markdown",
   "metadata": {},
   "source": [
    "* no vamos a necesitar la columna genero ya que no lo vamos a utilizar"
   ]
  },
  {
   "cell_type": "code",
   "execution_count": 25,
   "metadata": {},
   "outputs": [
    {
     "data": {
      "text/html": [
       "<div>\n",
       "<style scoped>\n",
       "    .dataframe tbody tr th:only-of-type {\n",
       "        vertical-align: middle;\n",
       "    }\n",
       "\n",
       "    .dataframe tbody tr th {\n",
       "        vertical-align: top;\n",
       "    }\n",
       "\n",
       "    .dataframe thead th {\n",
       "        text-align: right;\n",
       "    }\n",
       "</style>\n",
       "<table border=\"1\" class=\"dataframe\">\n",
       "  <thead>\n",
       "    <tr style=\"text-align: right;\">\n",
       "      <th></th>\n",
       "      <th>item_id</th>\n",
       "      <th>price</th>\n",
       "      <th>año</th>\n",
       "      <th>developer</th>\n",
       "    </tr>\n",
       "  </thead>\n",
       "  <tbody>\n",
       "    <tr>\n",
       "      <th>0</th>\n",
       "      <td>761140</td>\n",
       "      <td>4.99</td>\n",
       "      <td>2018</td>\n",
       "      <td>kotoshiro</td>\n",
       "    </tr>\n",
       "    <tr>\n",
       "      <th>1</th>\n",
       "      <td>643980</td>\n",
       "      <td>free</td>\n",
       "      <td>2018</td>\n",
       "      <td>secret level srl</td>\n",
       "    </tr>\n",
       "    <tr>\n",
       "      <th>2</th>\n",
       "      <td>670290</td>\n",
       "      <td>free</td>\n",
       "      <td>2017</td>\n",
       "      <td>poolians.com</td>\n",
       "    </tr>\n",
       "    <tr>\n",
       "      <th>3</th>\n",
       "      <td>767400</td>\n",
       "      <td>0.99</td>\n",
       "      <td>2017</td>\n",
       "      <td>彼岸领域</td>\n",
       "    </tr>\n",
       "    <tr>\n",
       "      <th>4</th>\n",
       "      <td>773570</td>\n",
       "      <td>2.99</td>\n",
       "      <td>0</td>\n",
       "      <td>None</td>\n",
       "    </tr>\n",
       "  </tbody>\n",
       "</table>\n",
       "</div>"
      ],
      "text/plain": [
       "   item_id price   año         developer\n",
       "0   761140  4.99  2018         kotoshiro\n",
       "1   643980  free  2018  secret level srl\n",
       "2   670290  free  2017      poolians.com\n",
       "3   767400  0.99  2017              彼岸领域\n",
       "4   773570  2.99     0              None"
      ]
     },
     "execution_count": 25,
     "metadata": {},
     "output_type": "execute_result"
    }
   ],
   "source": [
    "df_developer.drop(\"genre\",axis=1,inplace=True)\n",
    "df_developer.head(5)"
   ]
  },
  {
   "cell_type": "markdown",
   "metadata": {},
   "source": [
    "* hacemos un chequeo de nulos en las columnas developer y año"
   ]
  },
  {
   "cell_type": "code",
   "execution_count": 26,
   "metadata": {},
   "outputs": [
    {
     "data": {
      "text/html": [
       "<div>\n",
       "<style scoped>\n",
       "    .dataframe tbody tr th:only-of-type {\n",
       "        vertical-align: middle;\n",
       "    }\n",
       "\n",
       "    .dataframe tbody tr th {\n",
       "        vertical-align: top;\n",
       "    }\n",
       "\n",
       "    .dataframe thead th {\n",
       "        text-align: right;\n",
       "    }\n",
       "</style>\n",
       "<table border=\"1\" class=\"dataframe\">\n",
       "  <thead>\n",
       "    <tr style=\"text-align: right;\">\n",
       "      <th></th>\n",
       "      <th>item_id</th>\n",
       "      <th>price</th>\n",
       "      <th>año</th>\n",
       "      <th>developer</th>\n",
       "    </tr>\n",
       "  </thead>\n",
       "  <tbody>\n",
       "    <tr>\n",
       "      <th>4</th>\n",
       "      <td>773570</td>\n",
       "      <td>2.99</td>\n",
       "      <td>0</td>\n",
       "      <td>None</td>\n",
       "    </tr>\n",
       "    <tr>\n",
       "      <th>11</th>\n",
       "      <td>724910</td>\n",
       "      <td>free</td>\n",
       "      <td>0</td>\n",
       "      <td>None</td>\n",
       "    </tr>\n",
       "    <tr>\n",
       "      <th>19</th>\n",
       "      <td>772590</td>\n",
       "      <td>4.99</td>\n",
       "      <td>0</td>\n",
       "      <td>None</td>\n",
       "    </tr>\n",
       "    <tr>\n",
       "      <th>20</th>\n",
       "      <td>640250</td>\n",
       "      <td>2.99</td>\n",
       "      <td>0</td>\n",
       "      <td>None</td>\n",
       "    </tr>\n",
       "    <tr>\n",
       "      <th>22</th>\n",
       "      <td>711440</td>\n",
       "      <td>0.99</td>\n",
       "      <td>0</td>\n",
       "      <td>None</td>\n",
       "    </tr>\n",
       "  </tbody>\n",
       "</table>\n",
       "</div>"
      ],
      "text/plain": [
       "    item_id price  año developer\n",
       "4    773570  2.99    0      None\n",
       "11   724910  free    0      None\n",
       "19   772590  4.99    0      None\n",
       "20   640250  2.99    0      None\n",
       "22   711440  0.99    0      None"
      ]
     },
     "execution_count": 26,
     "metadata": {},
     "output_type": "execute_result"
    }
   ],
   "source": [
    "df_developer[df_developer[\"developer\"].isna()].head(5)"
   ]
  },
  {
   "cell_type": "code",
   "execution_count": 27,
   "metadata": {},
   "outputs": [
    {
     "data": {
      "text/html": [
       "<div>\n",
       "<style scoped>\n",
       "    .dataframe tbody tr th:only-of-type {\n",
       "        vertical-align: middle;\n",
       "    }\n",
       "\n",
       "    .dataframe tbody tr th {\n",
       "        vertical-align: top;\n",
       "    }\n",
       "\n",
       "    .dataframe thead th {\n",
       "        text-align: right;\n",
       "    }\n",
       "</style>\n",
       "<table border=\"1\" class=\"dataframe\">\n",
       "  <thead>\n",
       "    <tr style=\"text-align: right;\">\n",
       "      <th></th>\n",
       "      <th>item_id</th>\n",
       "      <th>price</th>\n",
       "      <th>año</th>\n",
       "      <th>developer</th>\n",
       "    </tr>\n",
       "  </thead>\n",
       "  <tbody>\n",
       "    <tr>\n",
       "      <th>4</th>\n",
       "      <td>773570</td>\n",
       "      <td>2.99</td>\n",
       "      <td>0</td>\n",
       "      <td>None</td>\n",
       "    </tr>\n",
       "    <tr>\n",
       "      <th>10</th>\n",
       "      <td>768570</td>\n",
       "      <td>None</td>\n",
       "      <td>0</td>\n",
       "      <td>qucheza</td>\n",
       "    </tr>\n",
       "    <tr>\n",
       "      <th>11</th>\n",
       "      <td>724910</td>\n",
       "      <td>free</td>\n",
       "      <td>0</td>\n",
       "      <td>None</td>\n",
       "    </tr>\n",
       "    <tr>\n",
       "      <th>19</th>\n",
       "      <td>772590</td>\n",
       "      <td>4.99</td>\n",
       "      <td>0</td>\n",
       "      <td>None</td>\n",
       "    </tr>\n",
       "    <tr>\n",
       "      <th>20</th>\n",
       "      <td>640250</td>\n",
       "      <td>2.99</td>\n",
       "      <td>0</td>\n",
       "      <td>None</td>\n",
       "    </tr>\n",
       "    <tr>\n",
       "      <th>...</th>\n",
       "      <td>...</td>\n",
       "      <td>...</td>\n",
       "      <td>...</td>\n",
       "      <td>...</td>\n",
       "    </tr>\n",
       "    <tr>\n",
       "      <th>32085</th>\n",
       "      <td>755830</td>\n",
       "      <td>None</td>\n",
       "      <td>0</td>\n",
       "      <td>greyson richey,nicholas lives</td>\n",
       "    </tr>\n",
       "    <tr>\n",
       "      <th>32086</th>\n",
       "      <td>708070</td>\n",
       "      <td>None</td>\n",
       "      <td>0</td>\n",
       "      <td>rechargecomplete</td>\n",
       "    </tr>\n",
       "    <tr>\n",
       "      <th>32095</th>\n",
       "      <td>250440</td>\n",
       "      <td>None</td>\n",
       "      <td>0</td>\n",
       "      <td>the amiable</td>\n",
       "    </tr>\n",
       "    <tr>\n",
       "      <th>32121</th>\n",
       "      <td>772180</td>\n",
       "      <td>None</td>\n",
       "      <td>0</td>\n",
       "      <td>versovr</td>\n",
       "    </tr>\n",
       "    <tr>\n",
       "      <th>32132</th>\n",
       "      <td>681550</td>\n",
       "      <td>4.99</td>\n",
       "      <td>0</td>\n",
       "      <td>None</td>\n",
       "    </tr>\n",
       "  </tbody>\n",
       "</table>\n",
       "<p>2351 rows × 4 columns</p>\n",
       "</div>"
      ],
      "text/plain": [
       "       item_id price  año                      developer\n",
       "4       773570  2.99    0                           None\n",
       "10      768570  None    0                        qucheza\n",
       "11      724910  free    0                           None\n",
       "19      772590  4.99    0                           None\n",
       "20      640250  2.99    0                           None\n",
       "...        ...   ...  ...                            ...\n",
       "32085   755830  None    0  greyson richey,nicholas lives\n",
       "32086   708070  None    0               rechargecomplete\n",
       "32095   250440  None    0                    the amiable\n",
       "32121   772180  None    0                        versovr\n",
       "32132   681550  4.99    0                           None\n",
       "\n",
       "[2351 rows x 4 columns]"
      ]
     },
     "execution_count": 27,
     "metadata": {},
     "output_type": "execute_result"
    }
   ],
   "source": [
    "df_developer[df_developer[\"año\"] == 0]"
   ]
  },
  {
   "cell_type": "markdown",
   "metadata": {},
   "source": [
    "* Limpiamos los valores nulos de developer y los años que tienen 0"
   ]
  },
  {
   "cell_type": "code",
   "execution_count": 28,
   "metadata": {},
   "outputs": [
    {
     "data": {
      "text/html": [
       "<div>\n",
       "<style scoped>\n",
       "    .dataframe tbody tr th:only-of-type {\n",
       "        vertical-align: middle;\n",
       "    }\n",
       "\n",
       "    .dataframe tbody tr th {\n",
       "        vertical-align: top;\n",
       "    }\n",
       "\n",
       "    .dataframe thead th {\n",
       "        text-align: right;\n",
       "    }\n",
       "</style>\n",
       "<table border=\"1\" class=\"dataframe\">\n",
       "  <thead>\n",
       "    <tr style=\"text-align: right;\">\n",
       "      <th></th>\n",
       "      <th>item_id</th>\n",
       "      <th>price</th>\n",
       "      <th>año</th>\n",
       "      <th>developer</th>\n",
       "    </tr>\n",
       "  </thead>\n",
       "  <tbody>\n",
       "    <tr>\n",
       "      <th>0</th>\n",
       "      <td>761140</td>\n",
       "      <td>4.99</td>\n",
       "      <td>2018</td>\n",
       "      <td>kotoshiro</td>\n",
       "    </tr>\n",
       "    <tr>\n",
       "      <th>1</th>\n",
       "      <td>643980</td>\n",
       "      <td>free</td>\n",
       "      <td>2018</td>\n",
       "      <td>secret level srl</td>\n",
       "    </tr>\n",
       "    <tr>\n",
       "      <th>2</th>\n",
       "      <td>670290</td>\n",
       "      <td>free</td>\n",
       "      <td>2017</td>\n",
       "      <td>poolians.com</td>\n",
       "    </tr>\n",
       "    <tr>\n",
       "      <th>3</th>\n",
       "      <td>767400</td>\n",
       "      <td>0.99</td>\n",
       "      <td>2017</td>\n",
       "      <td>彼岸领域</td>\n",
       "    </tr>\n",
       "    <tr>\n",
       "      <th>4</th>\n",
       "      <td>772540</td>\n",
       "      <td>3.99</td>\n",
       "      <td>2018</td>\n",
       "      <td>trickjump games ltd</td>\n",
       "    </tr>\n",
       "    <tr>\n",
       "      <th>...</th>\n",
       "      <td>...</td>\n",
       "      <td>...</td>\n",
       "      <td>...</td>\n",
       "      <td>...</td>\n",
       "    </tr>\n",
       "    <tr>\n",
       "      <th>28528</th>\n",
       "      <td>745400</td>\n",
       "      <td>1.99</td>\n",
       "      <td>2018</td>\n",
       "      <td>bidoniera games</td>\n",
       "    </tr>\n",
       "    <tr>\n",
       "      <th>28529</th>\n",
       "      <td>773640</td>\n",
       "      <td>1.99</td>\n",
       "      <td>2018</td>\n",
       "      <td>nikita \"ghost_rus\"</td>\n",
       "    </tr>\n",
       "    <tr>\n",
       "      <th>28530</th>\n",
       "      <td>733530</td>\n",
       "      <td>4.99</td>\n",
       "      <td>2018</td>\n",
       "      <td>sacada</td>\n",
       "    </tr>\n",
       "    <tr>\n",
       "      <th>28531</th>\n",
       "      <td>610660</td>\n",
       "      <td>1.99</td>\n",
       "      <td>2018</td>\n",
       "      <td>laush dmitriy sergeevich</td>\n",
       "    </tr>\n",
       "    <tr>\n",
       "      <th>28532</th>\n",
       "      <td>658870</td>\n",
       "      <td>4.99</td>\n",
       "      <td>2017</td>\n",
       "      <td>xropi,stev3ns</td>\n",
       "    </tr>\n",
       "  </tbody>\n",
       "</table>\n",
       "<p>28533 rows × 4 columns</p>\n",
       "</div>"
      ],
      "text/plain": [
       "       item_id price   año                 developer\n",
       "0       761140  4.99  2018                 kotoshiro\n",
       "1       643980  free  2018          secret level srl\n",
       "2       670290  free  2017              poolians.com\n",
       "3       767400  0.99  2017                      彼岸领域\n",
       "4       772540  3.99  2018       trickjump games ltd\n",
       "...        ...   ...   ...                       ...\n",
       "28528   745400  1.99  2018           bidoniera games\n",
       "28529   773640  1.99  2018        nikita \"ghost_rus\"\n",
       "28530   733530  4.99  2018                    sacada\n",
       "28531   610660  1.99  2018  laush dmitriy sergeevich\n",
       "28532   658870  4.99  2017             xropi,stev3ns\n",
       "\n",
       "[28533 rows x 4 columns]"
      ]
     },
     "execution_count": 28,
     "metadata": {},
     "output_type": "execute_result"
    }
   ],
   "source": [
    "df_developer.dropna(subset=[\"developer\"],inplace=True)\n",
    "df_developer = df_developer[df_developer[\"año\"] != 0]\n",
    "df_developer.reset_index(drop=True)"
   ]
  },
  {
   "cell_type": "code",
   "execution_count": 29,
   "metadata": {},
   "outputs": [
    {
     "name": "stdout",
     "output_type": "stream",
     "text": [
      "<class 'pandas.core.frame.DataFrame'>\n",
      "Index: 28533 entries, 0 to 32131\n",
      "Data columns (total 4 columns):\n",
      " #   Column     Non-Null Count  Dtype \n",
      "---  ------     --------------  ----- \n",
      " 0   item_id    28533 non-null  int32 \n",
      " 1   price      27558 non-null  object\n",
      " 2   año        28533 non-null  int32 \n",
      " 3   developer  28533 non-null  object\n",
      "dtypes: int32(2), object(2)\n",
      "memory usage: 891.7+ KB\n"
     ]
    }
   ],
   "source": [
    "df_developer.info()"
   ]
  },
  {
   "cell_type": "markdown",
   "metadata": {},
   "source": [
    "* **Ya terminamos de hacer la tabla que se va a usar en la consulta 1**"
   ]
  },
  {
   "cell_type": "markdown",
   "metadata": {},
   "source": [
    "### Consulta 2: def userdata (user_id: str), Debe devolver cantidad de dinero gastado por el usuario, el porcentaje de recomendación en base a reviews.recommend y cantidad de items."
   ]
  },
  {
   "cell_type": "code",
   "execution_count": 30,
   "metadata": {},
   "outputs": [],
   "source": [
    "df_userdata_review = df_reviews.copy() \n",
    "df_userdata_items = df_items.copy()\n",
    "df_userdata_games = df_games.copy()"
   ]
  },
  {
   "cell_type": "code",
   "execution_count": 31,
   "metadata": {},
   "outputs": [
    {
     "data": {
      "text/html": [
       "<div>\n",
       "<style scoped>\n",
       "    .dataframe tbody tr th:only-of-type {\n",
       "        vertical-align: middle;\n",
       "    }\n",
       "\n",
       "    .dataframe tbody tr th {\n",
       "        vertical-align: top;\n",
       "    }\n",
       "\n",
       "    .dataframe thead th {\n",
       "        text-align: right;\n",
       "    }\n",
       "</style>\n",
       "<table border=\"1\" class=\"dataframe\">\n",
       "  <thead>\n",
       "    <tr style=\"text-align: right;\">\n",
       "      <th></th>\n",
       "      <th>item_id</th>\n",
       "      <th>price</th>\n",
       "      <th>genre</th>\n",
       "      <th>año</th>\n",
       "      <th>developer</th>\n",
       "    </tr>\n",
       "  </thead>\n",
       "  <tbody>\n",
       "    <tr>\n",
       "      <th>0</th>\n",
       "      <td>761140</td>\n",
       "      <td>4.99</td>\n",
       "      <td>action</td>\n",
       "      <td>2018</td>\n",
       "      <td>kotoshiro</td>\n",
       "    </tr>\n",
       "    <tr>\n",
       "      <th>1</th>\n",
       "      <td>643980</td>\n",
       "      <td>free</td>\n",
       "      <td>free to play</td>\n",
       "      <td>2018</td>\n",
       "      <td>secret level srl</td>\n",
       "    </tr>\n",
       "  </tbody>\n",
       "</table>\n",
       "</div>"
      ],
      "text/plain": [
       "   item_id price         genre   año         developer\n",
       "0   761140  4.99        action  2018         kotoshiro\n",
       "1   643980  free  free to play  2018  secret level srl"
      ]
     },
     "execution_count": 31,
     "metadata": {},
     "output_type": "execute_result"
    }
   ],
   "source": [
    "df_userdata_games.head(2)"
   ]
  },
  {
   "cell_type": "code",
   "execution_count": 32,
   "metadata": {},
   "outputs": [
    {
     "data": {
      "text/html": [
       "<div>\n",
       "<style scoped>\n",
       "    .dataframe tbody tr th:only-of-type {\n",
       "        vertical-align: middle;\n",
       "    }\n",
       "\n",
       "    .dataframe tbody tr th {\n",
       "        vertical-align: top;\n",
       "    }\n",
       "\n",
       "    .dataframe thead th {\n",
       "        text-align: right;\n",
       "    }\n",
       "</style>\n",
       "<table border=\"1\" class=\"dataframe\">\n",
       "  <thead>\n",
       "    <tr style=\"text-align: right;\">\n",
       "      <th></th>\n",
       "      <th>item_id</th>\n",
       "      <th>playtime_forever</th>\n",
       "      <th>user_id</th>\n",
       "    </tr>\n",
       "  </thead>\n",
       "  <tbody>\n",
       "    <tr>\n",
       "      <th>0</th>\n",
       "      <td>10</td>\n",
       "      <td>6.0</td>\n",
       "      <td>76561197970982479</td>\n",
       "    </tr>\n",
       "    <tr>\n",
       "      <th>1</th>\n",
       "      <td>20</td>\n",
       "      <td>0.0</td>\n",
       "      <td>76561197970982479</td>\n",
       "    </tr>\n",
       "  </tbody>\n",
       "</table>\n",
       "</div>"
      ],
      "text/plain": [
       "   item_id  playtime_forever            user_id\n",
       "0       10               6.0  76561197970982479\n",
       "1       20               0.0  76561197970982479"
      ]
     },
     "execution_count": 32,
     "metadata": {},
     "output_type": "execute_result"
    }
   ],
   "source": [
    "df_userdata_items.head(2)"
   ]
  },
  {
   "cell_type": "code",
   "execution_count": 33,
   "metadata": {},
   "outputs": [
    {
     "data": {
      "text/html": [
       "<div>\n",
       "<style scoped>\n",
       "    .dataframe tbody tr th:only-of-type {\n",
       "        vertical-align: middle;\n",
       "    }\n",
       "\n",
       "    .dataframe tbody tr th {\n",
       "        vertical-align: top;\n",
       "    }\n",
       "\n",
       "    .dataframe thead th {\n",
       "        text-align: right;\n",
       "    }\n",
       "</style>\n",
       "<table border=\"1\" class=\"dataframe\">\n",
       "  <thead>\n",
       "    <tr style=\"text-align: right;\">\n",
       "      <th></th>\n",
       "      <th>user_id</th>\n",
       "      <th>item_id</th>\n",
       "      <th>recommend</th>\n",
       "      <th>sentiment_analysis</th>\n",
       "    </tr>\n",
       "  </thead>\n",
       "  <tbody>\n",
       "    <tr>\n",
       "      <th>0</th>\n",
       "      <td>76561197970982479</td>\n",
       "      <td>1250</td>\n",
       "      <td>True</td>\n",
       "      <td>2</td>\n",
       "    </tr>\n",
       "    <tr>\n",
       "      <th>1</th>\n",
       "      <td>76561197970982479</td>\n",
       "      <td>22200</td>\n",
       "      <td>True</td>\n",
       "      <td>2</td>\n",
       "    </tr>\n",
       "  </tbody>\n",
       "</table>\n",
       "</div>"
      ],
      "text/plain": [
       "             user_id  item_id recommend  sentiment_analysis\n",
       "0  76561197970982479     1250      True                   2\n",
       "1  76561197970982479    22200      True                   2"
      ]
     },
     "execution_count": 33,
     "metadata": {},
     "output_type": "execute_result"
    }
   ],
   "source": [
    "df_userdata_review.head(2)"
   ]
  },
  {
   "cell_type": "markdown",
   "metadata": {},
   "source": [
    "* **columnas a utilizar de cada tabla:**\n",
    "- games : price, item_id\n",
    "- items : item_id y user_id\n",
    "- review : item_id, ,user_id,recommend\n",
    "\n",
    "* **la tabla final debe quedar:**\n",
    "- user_id,item_id,price,recommend"
   ]
  },
  {
   "cell_type": "markdown",
   "metadata": {},
   "source": [
    "* procedemos a hacer la limpieza de columnas que no vayamos a utilizar"
   ]
  },
  {
   "cell_type": "code",
   "execution_count": 34,
   "metadata": {},
   "outputs": [],
   "source": [
    "a_eliminar_games =[\"genre\",\"año\",\"developer\"]\n",
    "df_userdata_games.drop(a_eliminar_games,axis=1,inplace=True)\n",
    "df_userdata_items.drop(\"playtime_forever\",axis=1,inplace=True)\n",
    "df_userdata_review.drop(\"sentiment_analysis\",axis=1,inplace=True)"
   ]
  },
  {
   "cell_type": "markdown",
   "metadata": {},
   "source": [
    "* hacemos un chequeo de nulos y normalizacion de datos para evitar confictos a la de unir las tablas"
   ]
  },
  {
   "cell_type": "code",
   "execution_count": 35,
   "metadata": {},
   "outputs": [
    {
     "name": "stdout",
     "output_type": "stream",
     "text": [
      "<class 'pandas.core.frame.DataFrame'>\n",
      "Index: 58430 entries, 0 to 58457\n",
      "Data columns (total 3 columns):\n",
      " #   Column     Non-Null Count  Dtype \n",
      "---  ------     --------------  ----- \n",
      " 0   user_id    58430 non-null  object\n",
      " 1   item_id    58430 non-null  int32 \n",
      " 2   recommend  58430 non-null  object\n",
      "dtypes: int32(1), object(2)\n",
      "memory usage: 1.6+ MB\n"
     ]
    }
   ],
   "source": [
    "df_userdata_review.info()"
   ]
  },
  {
   "cell_type": "markdown",
   "metadata": {},
   "source": [
    "* primero vamos a hacer la union de la tabla por coincidentes del id del item"
   ]
  },
  {
   "cell_type": "code",
   "execution_count": 36,
   "metadata": {},
   "outputs": [
    {
     "data": {
      "text/html": [
       "<div>\n",
       "<style scoped>\n",
       "    .dataframe tbody tr th:only-of-type {\n",
       "        vertical-align: middle;\n",
       "    }\n",
       "\n",
       "    .dataframe tbody tr th {\n",
       "        vertical-align: top;\n",
       "    }\n",
       "\n",
       "    .dataframe thead th {\n",
       "        text-align: right;\n",
       "    }\n",
       "</style>\n",
       "<table border=\"1\" class=\"dataframe\">\n",
       "  <thead>\n",
       "    <tr style=\"text-align: right;\">\n",
       "      <th></th>\n",
       "      <th>item_id</th>\n",
       "      <th>price</th>\n",
       "      <th>user_id</th>\n",
       "    </tr>\n",
       "  </thead>\n",
       "  <tbody>\n",
       "    <tr>\n",
       "      <th>0</th>\n",
       "      <td>282010</td>\n",
       "      <td>9.99</td>\n",
       "      <td>utnerd24</td>\n",
       "    </tr>\n",
       "    <tr>\n",
       "      <th>1</th>\n",
       "      <td>282010</td>\n",
       "      <td>9.99</td>\n",
       "      <td>i_did_911_just_saying</td>\n",
       "    </tr>\n",
       "    <tr>\n",
       "      <th>2</th>\n",
       "      <td>282010</td>\n",
       "      <td>9.99</td>\n",
       "      <td>76561197962104795</td>\n",
       "    </tr>\n",
       "    <tr>\n",
       "      <th>3</th>\n",
       "      <td>282010</td>\n",
       "      <td>9.99</td>\n",
       "      <td>r3ap3r78</td>\n",
       "    </tr>\n",
       "    <tr>\n",
       "      <th>4</th>\n",
       "      <td>282010</td>\n",
       "      <td>9.99</td>\n",
       "      <td>saint556</td>\n",
       "    </tr>\n",
       "    <tr>\n",
       "      <th>5</th>\n",
       "      <td>282010</td>\n",
       "      <td>9.99</td>\n",
       "      <td>chidvd</td>\n",
       "    </tr>\n",
       "    <tr>\n",
       "      <th>6</th>\n",
       "      <td>282010</td>\n",
       "      <td>9.99</td>\n",
       "      <td>aerpub</td>\n",
       "    </tr>\n",
       "    <tr>\n",
       "      <th>7</th>\n",
       "      <td>282010</td>\n",
       "      <td>9.99</td>\n",
       "      <td>lucifer666678</td>\n",
       "    </tr>\n",
       "    <tr>\n",
       "      <th>8</th>\n",
       "      <td>282010</td>\n",
       "      <td>9.99</td>\n",
       "      <td>76561198014848587</td>\n",
       "    </tr>\n",
       "    <tr>\n",
       "      <th>9</th>\n",
       "      <td>282010</td>\n",
       "      <td>9.99</td>\n",
       "      <td>filthydeath</td>\n",
       "    </tr>\n",
       "  </tbody>\n",
       "</table>\n",
       "</div>"
      ],
      "text/plain": [
       "   item_id price                user_id\n",
       "0   282010  9.99               utnerd24\n",
       "1   282010  9.99  i_did_911_just_saying\n",
       "2   282010  9.99      76561197962104795\n",
       "3   282010  9.99               r3ap3r78\n",
       "4   282010  9.99               saint556\n",
       "5   282010  9.99                 chidvd\n",
       "6   282010  9.99                 aerpub\n",
       "7   282010  9.99          lucifer666678\n",
       "8   282010  9.99      76561198014848587\n",
       "9   282010  9.99            filthydeath"
      ]
     },
     "execution_count": 36,
     "metadata": {},
     "output_type": "execute_result"
    }
   ],
   "source": [
    "df_userdata_union = pd.merge(df_userdata_games,df_userdata_items,on=\"item_id\") \n",
    "df_userdata_union.head(10)"
   ]
  },
  {
   "cell_type": "markdown",
   "metadata": {},
   "source": [
    "* chequeamos si quedó bien la union de la tabla de uno a muchos y se ve que quedó perfecto"
   ]
  },
  {
   "cell_type": "code",
   "execution_count": 37,
   "metadata": {},
   "outputs": [
    {
     "data": {
      "text/html": [
       "<div>\n",
       "<style scoped>\n",
       "    .dataframe tbody tr th:only-of-type {\n",
       "        vertical-align: middle;\n",
       "    }\n",
       "\n",
       "    .dataframe tbody tr th {\n",
       "        vertical-align: top;\n",
       "    }\n",
       "\n",
       "    .dataframe thead th {\n",
       "        text-align: right;\n",
       "    }\n",
       "</style>\n",
       "<table border=\"1\" class=\"dataframe\">\n",
       "  <thead>\n",
       "    <tr style=\"text-align: right;\">\n",
       "      <th></th>\n",
       "      <th>item_id</th>\n",
       "      <th>price</th>\n",
       "      <th>user_id</th>\n",
       "    </tr>\n",
       "  </thead>\n",
       "  <tbody>\n",
       "  </tbody>\n",
       "</table>\n",
       "</div>"
      ],
      "text/plain": [
       "Empty DataFrame\n",
       "Columns: [item_id, price, user_id]\n",
       "Index: []"
      ]
     },
     "execution_count": 37,
     "metadata": {},
     "output_type": "execute_result"
    }
   ],
   "source": [
    "df_userdata_union[df_userdata_union[\"user_id\"] == \"UTNerd24\"].head(5)"
   ]
  },
  {
   "cell_type": "code",
   "execution_count": 38,
   "metadata": {},
   "outputs": [
    {
     "data": {
      "text/html": [
       "<div>\n",
       "<style scoped>\n",
       "    .dataframe tbody tr th:only-of-type {\n",
       "        vertical-align: middle;\n",
       "    }\n",
       "\n",
       "    .dataframe tbody tr th {\n",
       "        vertical-align: top;\n",
       "    }\n",
       "\n",
       "    .dataframe thead th {\n",
       "        text-align: right;\n",
       "    }\n",
       "</style>\n",
       "<table border=\"1\" class=\"dataframe\">\n",
       "  <thead>\n",
       "    <tr style=\"text-align: right;\">\n",
       "      <th></th>\n",
       "      <th>item_id</th>\n",
       "      <th>price</th>\n",
       "      <th>user_id</th>\n",
       "    </tr>\n",
       "  </thead>\n",
       "  <tbody>\n",
       "    <tr>\n",
       "      <th>0</th>\n",
       "      <td>282010</td>\n",
       "      <td>9.99</td>\n",
       "      <td>utnerd24</td>\n",
       "    </tr>\n",
       "    <tr>\n",
       "      <th>1</th>\n",
       "      <td>282010</td>\n",
       "      <td>9.99</td>\n",
       "      <td>i_did_911_just_saying</td>\n",
       "    </tr>\n",
       "    <tr>\n",
       "      <th>2</th>\n",
       "      <td>282010</td>\n",
       "      <td>9.99</td>\n",
       "      <td>76561197962104795</td>\n",
       "    </tr>\n",
       "    <tr>\n",
       "      <th>3</th>\n",
       "      <td>282010</td>\n",
       "      <td>9.99</td>\n",
       "      <td>r3ap3r78</td>\n",
       "    </tr>\n",
       "    <tr>\n",
       "      <th>4</th>\n",
       "      <td>282010</td>\n",
       "      <td>9.99</td>\n",
       "      <td>saint556</td>\n",
       "    </tr>\n",
       "  </tbody>\n",
       "</table>\n",
       "</div>"
      ],
      "text/plain": [
       "   item_id price                user_id\n",
       "0   282010  9.99               utnerd24\n",
       "1   282010  9.99  i_did_911_just_saying\n",
       "2   282010  9.99      76561197962104795\n",
       "3   282010  9.99               r3ap3r78\n",
       "4   282010  9.99               saint556"
      ]
     },
     "execution_count": 38,
     "metadata": {},
     "output_type": "execute_result"
    }
   ],
   "source": [
    "df_userdata_union[df_userdata_union[\"item_id\"] == 282010].head(5)"
   ]
  },
  {
   "cell_type": "markdown",
   "metadata": {},
   "source": [
    "* al hacer un analisis visual vemos que tanto item_id como user_id son relaciones muchos a muchos. ahora vamos a hacer la ultima union de la tabla con reviews"
   ]
  },
  {
   "cell_type": "code",
   "execution_count": 39,
   "metadata": {},
   "outputs": [],
   "source": [
    "df_userdata_final = pd.merge(df_userdata_union,df_userdata_review,on=[\"user_id\",\"item_id\"]).sort_values(by=\"item_id\")"
   ]
  },
  {
   "cell_type": "code",
   "execution_count": 40,
   "metadata": {},
   "outputs": [
    {
     "data": {
      "text/html": [
       "<div>\n",
       "<style scoped>\n",
       "    .dataframe tbody tr th:only-of-type {\n",
       "        vertical-align: middle;\n",
       "    }\n",
       "\n",
       "    .dataframe tbody tr th {\n",
       "        vertical-align: top;\n",
       "    }\n",
       "\n",
       "    .dataframe thead th {\n",
       "        text-align: right;\n",
       "    }\n",
       "</style>\n",
       "<table border=\"1\" class=\"dataframe\">\n",
       "  <thead>\n",
       "    <tr style=\"text-align: right;\">\n",
       "      <th></th>\n",
       "      <th>item_id</th>\n",
       "      <th>price</th>\n",
       "      <th>user_id</th>\n",
       "      <th>recommend</th>\n",
       "    </tr>\n",
       "  </thead>\n",
       "  <tbody>\n",
       "    <tr>\n",
       "      <th>0</th>\n",
       "      <td>10</td>\n",
       "      <td>9.99</td>\n",
       "      <td>76561198107235245</td>\n",
       "      <td>True</td>\n",
       "    </tr>\n",
       "    <tr>\n",
       "      <th>1</th>\n",
       "      <td>10</td>\n",
       "      <td>9.99</td>\n",
       "      <td>76561198085715384</td>\n",
       "      <td>True</td>\n",
       "    </tr>\n",
       "    <tr>\n",
       "      <th>2</th>\n",
       "      <td>10</td>\n",
       "      <td>9.99</td>\n",
       "      <td>fuckingdinasaww</td>\n",
       "      <td>True</td>\n",
       "    </tr>\n",
       "    <tr>\n",
       "      <th>3</th>\n",
       "      <td>10</td>\n",
       "      <td>9.99</td>\n",
       "      <td>mixadance</td>\n",
       "      <td>True</td>\n",
       "    </tr>\n",
       "    <tr>\n",
       "      <th>4</th>\n",
       "      <td>10</td>\n",
       "      <td>9.99</td>\n",
       "      <td>therealchris02</td>\n",
       "      <td>True</td>\n",
       "    </tr>\n",
       "  </tbody>\n",
       "</table>\n",
       "</div>"
      ],
      "text/plain": [
       "   item_id price            user_id recommend\n",
       "0       10  9.99  76561198107235245      True\n",
       "1       10  9.99  76561198085715384      True\n",
       "2       10  9.99    fuckingdinasaww      True\n",
       "3       10  9.99          mixadance      True\n",
       "4       10  9.99     therealchris02      True"
      ]
     },
     "execution_count": 40,
     "metadata": {},
     "output_type": "execute_result"
    }
   ],
   "source": [
    "df_userdata_final.reset_index(drop=True,inplace=True)\n",
    "df_userdata_final.head(5)"
   ]
  },
  {
   "cell_type": "markdown",
   "metadata": {},
   "source": [
    "* **Ya terminamos la tabla de user_data donde finalmente se pudo hacer la union de las 3 tablas** "
   ]
  },
  {
   "cell_type": "markdown",
   "metadata": {},
   "source": [
    "### Consulta 3: def userforgenre (genre: str), Debe devolver el usuario que acumula más horas jugadas para el género dado y una lista de la acumulación de horas jugadas por año de lanzamiento."
   ]
  },
  {
   "cell_type": "code",
   "execution_count": 41,
   "metadata": {},
   "outputs": [],
   "source": [
    "df_userforgenre_games = df_games.copy()\n",
    "df_userforgenre_items = df_items.copy()"
   ]
  },
  {
   "cell_type": "code",
   "execution_count": 42,
   "metadata": {},
   "outputs": [
    {
     "data": {
      "text/html": [
       "<div>\n",
       "<style scoped>\n",
       "    .dataframe tbody tr th:only-of-type {\n",
       "        vertical-align: middle;\n",
       "    }\n",
       "\n",
       "    .dataframe tbody tr th {\n",
       "        vertical-align: top;\n",
       "    }\n",
       "\n",
       "    .dataframe thead th {\n",
       "        text-align: right;\n",
       "    }\n",
       "</style>\n",
       "<table border=\"1\" class=\"dataframe\">\n",
       "  <thead>\n",
       "    <tr style=\"text-align: right;\">\n",
       "      <th></th>\n",
       "      <th>item_id</th>\n",
       "      <th>price</th>\n",
       "      <th>genre</th>\n",
       "      <th>año</th>\n",
       "      <th>developer</th>\n",
       "    </tr>\n",
       "  </thead>\n",
       "  <tbody>\n",
       "    <tr>\n",
       "      <th>0</th>\n",
       "      <td>761140</td>\n",
       "      <td>4.99</td>\n",
       "      <td>action</td>\n",
       "      <td>2018</td>\n",
       "      <td>kotoshiro</td>\n",
       "    </tr>\n",
       "    <tr>\n",
       "      <th>1</th>\n",
       "      <td>643980</td>\n",
       "      <td>free</td>\n",
       "      <td>free to play</td>\n",
       "      <td>2018</td>\n",
       "      <td>secret level srl</td>\n",
       "    </tr>\n",
       "    <tr>\n",
       "      <th>2</th>\n",
       "      <td>670290</td>\n",
       "      <td>free</td>\n",
       "      <td>casual</td>\n",
       "      <td>2017</td>\n",
       "      <td>poolians.com</td>\n",
       "    </tr>\n",
       "    <tr>\n",
       "      <th>3</th>\n",
       "      <td>767400</td>\n",
       "      <td>0.99</td>\n",
       "      <td>action</td>\n",
       "      <td>2017</td>\n",
       "      <td>彼岸领域</td>\n",
       "    </tr>\n",
       "    <tr>\n",
       "      <th>4</th>\n",
       "      <td>773570</td>\n",
       "      <td>2.99</td>\n",
       "      <td>None</td>\n",
       "      <td>0</td>\n",
       "      <td>None</td>\n",
       "    </tr>\n",
       "  </tbody>\n",
       "</table>\n",
       "</div>"
      ],
      "text/plain": [
       "   item_id price         genre   año         developer\n",
       "0   761140  4.99        action  2018         kotoshiro\n",
       "1   643980  free  free to play  2018  secret level srl\n",
       "2   670290  free        casual  2017      poolians.com\n",
       "3   767400  0.99        action  2017              彼岸领域\n",
       "4   773570  2.99          None     0              None"
      ]
     },
     "execution_count": 42,
     "metadata": {},
     "output_type": "execute_result"
    }
   ],
   "source": [
    "df_userforgenre_games.head()"
   ]
  },
  {
   "cell_type": "code",
   "execution_count": 43,
   "metadata": {},
   "outputs": [
    {
     "data": {
      "text/html": [
       "<div>\n",
       "<style scoped>\n",
       "    .dataframe tbody tr th:only-of-type {\n",
       "        vertical-align: middle;\n",
       "    }\n",
       "\n",
       "    .dataframe tbody tr th {\n",
       "        vertical-align: top;\n",
       "    }\n",
       "\n",
       "    .dataframe thead th {\n",
       "        text-align: right;\n",
       "    }\n",
       "</style>\n",
       "<table border=\"1\" class=\"dataframe\">\n",
       "  <thead>\n",
       "    <tr style=\"text-align: right;\">\n",
       "      <th></th>\n",
       "      <th>item_id</th>\n",
       "      <th>playtime_forever</th>\n",
       "      <th>user_id</th>\n",
       "    </tr>\n",
       "  </thead>\n",
       "  <tbody>\n",
       "    <tr>\n",
       "      <th>0</th>\n",
       "      <td>10</td>\n",
       "      <td>6.0</td>\n",
       "      <td>76561197970982479</td>\n",
       "    </tr>\n",
       "    <tr>\n",
       "      <th>1</th>\n",
       "      <td>20</td>\n",
       "      <td>0.0</td>\n",
       "      <td>76561197970982479</td>\n",
       "    </tr>\n",
       "    <tr>\n",
       "      <th>2</th>\n",
       "      <td>30</td>\n",
       "      <td>7.0</td>\n",
       "      <td>76561197970982479</td>\n",
       "    </tr>\n",
       "    <tr>\n",
       "      <th>3</th>\n",
       "      <td>40</td>\n",
       "      <td>0.0</td>\n",
       "      <td>76561197970982479</td>\n",
       "    </tr>\n",
       "    <tr>\n",
       "      <th>4</th>\n",
       "      <td>50</td>\n",
       "      <td>0.0</td>\n",
       "      <td>76561197970982479</td>\n",
       "    </tr>\n",
       "  </tbody>\n",
       "</table>\n",
       "</div>"
      ],
      "text/plain": [
       "   item_id  playtime_forever            user_id\n",
       "0       10               6.0  76561197970982479\n",
       "1       20               0.0  76561197970982479\n",
       "2       30               7.0  76561197970982479\n",
       "3       40               0.0  76561197970982479\n",
       "4       50               0.0  76561197970982479"
      ]
     },
     "execution_count": 43,
     "metadata": {},
     "output_type": "execute_result"
    }
   ],
   "source": [
    "df_userforgenre_items.head()"
   ]
  },
  {
   "cell_type": "markdown",
   "metadata": {},
   "source": [
    "* borramos las columnas que no vayamos a utilizar y chequeamos como quedó"
   ]
  },
  {
   "cell_type": "code",
   "execution_count": 44,
   "metadata": {},
   "outputs": [
    {
     "data": {
      "text/html": [
       "<div>\n",
       "<style scoped>\n",
       "    .dataframe tbody tr th:only-of-type {\n",
       "        vertical-align: middle;\n",
       "    }\n",
       "\n",
       "    .dataframe tbody tr th {\n",
       "        vertical-align: top;\n",
       "    }\n",
       "\n",
       "    .dataframe thead th {\n",
       "        text-align: right;\n",
       "    }\n",
       "</style>\n",
       "<table border=\"1\" class=\"dataframe\">\n",
       "  <thead>\n",
       "    <tr style=\"text-align: right;\">\n",
       "      <th></th>\n",
       "      <th>item_id</th>\n",
       "      <th>genre</th>\n",
       "      <th>año</th>\n",
       "    </tr>\n",
       "  </thead>\n",
       "  <tbody>\n",
       "    <tr>\n",
       "      <th>0</th>\n",
       "      <td>761140</td>\n",
       "      <td>action</td>\n",
       "      <td>2018</td>\n",
       "    </tr>\n",
       "    <tr>\n",
       "      <th>1</th>\n",
       "      <td>643980</td>\n",
       "      <td>free to play</td>\n",
       "      <td>2018</td>\n",
       "    </tr>\n",
       "    <tr>\n",
       "      <th>2</th>\n",
       "      <td>670290</td>\n",
       "      <td>casual</td>\n",
       "      <td>2017</td>\n",
       "    </tr>\n",
       "    <tr>\n",
       "      <th>3</th>\n",
       "      <td>767400</td>\n",
       "      <td>action</td>\n",
       "      <td>2017</td>\n",
       "    </tr>\n",
       "    <tr>\n",
       "      <th>4</th>\n",
       "      <td>773570</td>\n",
       "      <td>None</td>\n",
       "      <td>0</td>\n",
       "    </tr>\n",
       "    <tr>\n",
       "      <th>...</th>\n",
       "      <td>...</td>\n",
       "      <td>...</td>\n",
       "      <td>...</td>\n",
       "    </tr>\n",
       "    <tr>\n",
       "      <th>32128</th>\n",
       "      <td>773640</td>\n",
       "      <td>casual</td>\n",
       "      <td>2018</td>\n",
       "    </tr>\n",
       "    <tr>\n",
       "      <th>32129</th>\n",
       "      <td>733530</td>\n",
       "      <td>casual</td>\n",
       "      <td>2018</td>\n",
       "    </tr>\n",
       "    <tr>\n",
       "      <th>32130</th>\n",
       "      <td>610660</td>\n",
       "      <td>indie</td>\n",
       "      <td>2018</td>\n",
       "    </tr>\n",
       "    <tr>\n",
       "      <th>32131</th>\n",
       "      <td>658870</td>\n",
       "      <td>casual</td>\n",
       "      <td>2017</td>\n",
       "    </tr>\n",
       "    <tr>\n",
       "      <th>32132</th>\n",
       "      <td>681550</td>\n",
       "      <td>None</td>\n",
       "      <td>0</td>\n",
       "    </tr>\n",
       "  </tbody>\n",
       "</table>\n",
       "<p>32133 rows × 3 columns</p>\n",
       "</div>"
      ],
      "text/plain": [
       "       item_id         genre   año\n",
       "0       761140        action  2018\n",
       "1       643980  free to play  2018\n",
       "2       670290        casual  2017\n",
       "3       767400        action  2017\n",
       "4       773570          None     0\n",
       "...        ...           ...   ...\n",
       "32128   773640        casual  2018\n",
       "32129   733530        casual  2018\n",
       "32130   610660         indie  2018\n",
       "32131   658870        casual  2017\n",
       "32132   681550          None     0\n",
       "\n",
       "[32133 rows x 3 columns]"
      ]
     },
     "execution_count": 44,
     "metadata": {},
     "output_type": "execute_result"
    }
   ],
   "source": [
    "df_userforgenre_games.drop([\"developer\",\"price\"],axis=1,inplace=True)\n",
    "df_userforgenre_games"
   ]
  },
  {
   "cell_type": "markdown",
   "metadata": {},
   "source": [
    "* hacemos la union de las tablas y ordenamos por item_id"
   ]
  },
  {
   "cell_type": "code",
   "execution_count": 45,
   "metadata": {},
   "outputs": [
    {
     "data": {
      "text/html": [
       "<div>\n",
       "<style scoped>\n",
       "    .dataframe tbody tr th:only-of-type {\n",
       "        vertical-align: middle;\n",
       "    }\n",
       "\n",
       "    .dataframe tbody tr th {\n",
       "        vertical-align: top;\n",
       "    }\n",
       "\n",
       "    .dataframe thead th {\n",
       "        text-align: right;\n",
       "    }\n",
       "</style>\n",
       "<table border=\"1\" class=\"dataframe\">\n",
       "  <thead>\n",
       "    <tr style=\"text-align: right;\">\n",
       "      <th></th>\n",
       "      <th>item_id</th>\n",
       "      <th>genre</th>\n",
       "      <th>año</th>\n",
       "      <th>playtime_forever</th>\n",
       "      <th>user_id</th>\n",
       "    </tr>\n",
       "  </thead>\n",
       "  <tbody>\n",
       "    <tr>\n",
       "      <th>0</th>\n",
       "      <td>10</td>\n",
       "      <td>action</td>\n",
       "      <td>2000</td>\n",
       "      <td>6.0</td>\n",
       "      <td>76561197970982479</td>\n",
       "    </tr>\n",
       "    <tr>\n",
       "      <th>1</th>\n",
       "      <td>10</td>\n",
       "      <td>action</td>\n",
       "      <td>2000</td>\n",
       "      <td>0.0</td>\n",
       "      <td>js41637</td>\n",
       "    </tr>\n",
       "    <tr>\n",
       "      <th>2</th>\n",
       "      <td>10</td>\n",
       "      <td>action</td>\n",
       "      <td>2000</td>\n",
       "      <td>0.0</td>\n",
       "      <td>riot-punch</td>\n",
       "    </tr>\n",
       "    <tr>\n",
       "      <th>3</th>\n",
       "      <td>10</td>\n",
       "      <td>action</td>\n",
       "      <td>2000</td>\n",
       "      <td>93.0</td>\n",
       "      <td>doctr</td>\n",
       "    </tr>\n",
       "    <tr>\n",
       "      <th>4</th>\n",
       "      <td>10</td>\n",
       "      <td>action</td>\n",
       "      <td>2000</td>\n",
       "      <td>108.0</td>\n",
       "      <td>corrupted_soul</td>\n",
       "    </tr>\n",
       "  </tbody>\n",
       "</table>\n",
       "</div>"
      ],
      "text/plain": [
       "   item_id   genre   año  playtime_forever            user_id\n",
       "0       10  action  2000               6.0  76561197970982479\n",
       "1       10  action  2000               0.0            js41637\n",
       "2       10  action  2000               0.0         riot-punch\n",
       "3       10  action  2000              93.0              doctr\n",
       "4       10  action  2000             108.0     corrupted_soul"
      ]
     },
     "execution_count": 45,
     "metadata": {},
     "output_type": "execute_result"
    }
   ],
   "source": [
    "df_userforgenre_final = pd.merge(df_userforgenre_games,df_userforgenre_items,on='item_id',sort=True)\n",
    "df_userforgenre_final.head(5)"
   ]
  },
  {
   "cell_type": "markdown",
   "metadata": {},
   "source": [
    "* convertimos los valores nulos de genre en \"desconocido\" y posteriormente borramos los que tengan con genre desconocido\n",
    "* eliminamos las filas que tienen año 0"
   ]
  },
  {
   "cell_type": "code",
   "execution_count": 46,
   "metadata": {},
   "outputs": [],
   "source": [
    "df_userforgenre_final[\"genre\"] = df_userforgenre_final[\"genre\"].fillna(\"desconocido\")\n",
    "df_userforgenre_final= df_userforgenre_final[(df_userforgenre_final[\"genre\"] != \"desconocido\")]\n",
    "df_userforgenre_final = df_userforgenre_final[(df_userforgenre_final[\"año\"] != 0)]"
   ]
  },
  {
   "cell_type": "markdown",
   "metadata": {},
   "source": [
    "* reseteamos el index para tener un mejor orden en el index"
   ]
  },
  {
   "cell_type": "code",
   "execution_count": 47,
   "metadata": {},
   "outputs": [
    {
     "data": {
      "text/html": [
       "<div>\n",
       "<style scoped>\n",
       "    .dataframe tbody tr th:only-of-type {\n",
       "        vertical-align: middle;\n",
       "    }\n",
       "\n",
       "    .dataframe tbody tr th {\n",
       "        vertical-align: top;\n",
       "    }\n",
       "\n",
       "    .dataframe thead th {\n",
       "        text-align: right;\n",
       "    }\n",
       "</style>\n",
       "<table border=\"1\" class=\"dataframe\">\n",
       "  <thead>\n",
       "    <tr style=\"text-align: right;\">\n",
       "      <th></th>\n",
       "      <th>item_id</th>\n",
       "      <th>genre</th>\n",
       "      <th>año</th>\n",
       "      <th>playtime_forever</th>\n",
       "      <th>user_id</th>\n",
       "    </tr>\n",
       "  </thead>\n",
       "  <tbody>\n",
       "    <tr>\n",
       "      <th>0</th>\n",
       "      <td>10</td>\n",
       "      <td>action</td>\n",
       "      <td>2000</td>\n",
       "      <td>6.0</td>\n",
       "      <td>76561197970982479</td>\n",
       "    </tr>\n",
       "    <tr>\n",
       "      <th>1</th>\n",
       "      <td>10</td>\n",
       "      <td>action</td>\n",
       "      <td>2000</td>\n",
       "      <td>0.0</td>\n",
       "      <td>js41637</td>\n",
       "    </tr>\n",
       "    <tr>\n",
       "      <th>2</th>\n",
       "      <td>10</td>\n",
       "      <td>action</td>\n",
       "      <td>2000</td>\n",
       "      <td>0.0</td>\n",
       "      <td>riot-punch</td>\n",
       "    </tr>\n",
       "    <tr>\n",
       "      <th>3</th>\n",
       "      <td>10</td>\n",
       "      <td>action</td>\n",
       "      <td>2000</td>\n",
       "      <td>93.0</td>\n",
       "      <td>doctr</td>\n",
       "    </tr>\n",
       "    <tr>\n",
       "      <th>4</th>\n",
       "      <td>10</td>\n",
       "      <td>action</td>\n",
       "      <td>2000</td>\n",
       "      <td>108.0</td>\n",
       "      <td>corrupted_soul</td>\n",
       "    </tr>\n",
       "    <tr>\n",
       "      <th>...</th>\n",
       "      <td>...</td>\n",
       "      <td>...</td>\n",
       "      <td>...</td>\n",
       "      <td>...</td>\n",
       "      <td>...</td>\n",
       "    </tr>\n",
       "    <tr>\n",
       "      <th>4253367</th>\n",
       "      <td>527900</td>\n",
       "      <td>adventure</td>\n",
       "      <td>2016</td>\n",
       "      <td>44.0</td>\n",
       "      <td>76561198159037032</td>\n",
       "    </tr>\n",
       "    <tr>\n",
       "      <th>4253374</th>\n",
       "      <td>528660</td>\n",
       "      <td>action</td>\n",
       "      <td>2016</td>\n",
       "      <td>182.0</td>\n",
       "      <td>sirexpower</td>\n",
       "    </tr>\n",
       "    <tr>\n",
       "      <th>4253375</th>\n",
       "      <td>528660</td>\n",
       "      <td>action</td>\n",
       "      <td>2016</td>\n",
       "      <td>0.0</td>\n",
       "      <td>thugnificent</td>\n",
       "    </tr>\n",
       "    <tr>\n",
       "      <th>4253377</th>\n",
       "      <td>530720</td>\n",
       "      <td>casual</td>\n",
       "      <td>2016</td>\n",
       "      <td>0.0</td>\n",
       "      <td>csmisbeast</td>\n",
       "    </tr>\n",
       "    <tr>\n",
       "      <th>4253378</th>\n",
       "      <td>530720</td>\n",
       "      <td>casual</td>\n",
       "      <td>2016</td>\n",
       "      <td>0.0</td>\n",
       "      <td>mayshowganmore</td>\n",
       "    </tr>\n",
       "  </tbody>\n",
       "</table>\n",
       "<p>4134497 rows × 5 columns</p>\n",
       "</div>"
      ],
      "text/plain": [
       "         item_id      genre   año  playtime_forever            user_id\n",
       "0             10     action  2000               6.0  76561197970982479\n",
       "1             10     action  2000               0.0            js41637\n",
       "2             10     action  2000               0.0         riot-punch\n",
       "3             10     action  2000              93.0              doctr\n",
       "4             10     action  2000             108.0     corrupted_soul\n",
       "...          ...        ...   ...               ...                ...\n",
       "4253367   527900  adventure  2016              44.0  76561198159037032\n",
       "4253374   528660     action  2016             182.0         sirexpower\n",
       "4253375   528660     action  2016               0.0       thugnificent\n",
       "4253377   530720     casual  2016               0.0         csmisbeast\n",
       "4253378   530720     casual  2016               0.0     mayshowganmore\n",
       "\n",
       "[4134497 rows x 5 columns]"
      ]
     },
     "execution_count": 47,
     "metadata": {},
     "output_type": "execute_result"
    }
   ],
   "source": [
    "df_userforgenre_final.reset_index(drop=True)\n",
    "df_userforgenre_final"
   ]
  },
  {
   "cell_type": "markdown",
   "metadata": {},
   "source": [
    "* borramos la columna item_id porque ya no nos hace falta"
   ]
  },
  {
   "cell_type": "code",
   "execution_count": 48,
   "metadata": {},
   "outputs": [],
   "source": [
    "df_userforgenre_final.drop(\"item_id\",axis=1,inplace=True)"
   ]
  },
  {
   "cell_type": "markdown",
   "metadata": {},
   "source": [
    "* hacemos un chequeo de como quedó la tabla y quedó todo perfecto"
   ]
  },
  {
   "cell_type": "code",
   "execution_count": 49,
   "metadata": {},
   "outputs": [
    {
     "data": {
      "text/html": [
       "<div>\n",
       "<style scoped>\n",
       "    .dataframe tbody tr th:only-of-type {\n",
       "        vertical-align: middle;\n",
       "    }\n",
       "\n",
       "    .dataframe tbody tr th {\n",
       "        vertical-align: top;\n",
       "    }\n",
       "\n",
       "    .dataframe thead th {\n",
       "        text-align: right;\n",
       "    }\n",
       "</style>\n",
       "<table border=\"1\" class=\"dataframe\">\n",
       "  <thead>\n",
       "    <tr style=\"text-align: right;\">\n",
       "      <th></th>\n",
       "      <th>genre</th>\n",
       "      <th>año</th>\n",
       "      <th>playtime_forever</th>\n",
       "      <th>user_id</th>\n",
       "    </tr>\n",
       "  </thead>\n",
       "  <tbody>\n",
       "    <tr>\n",
       "      <th>0</th>\n",
       "      <td>action</td>\n",
       "      <td>2000</td>\n",
       "      <td>6.0</td>\n",
       "      <td>76561197970982479</td>\n",
       "    </tr>\n",
       "    <tr>\n",
       "      <th>1</th>\n",
       "      <td>action</td>\n",
       "      <td>2000</td>\n",
       "      <td>0.0</td>\n",
       "      <td>js41637</td>\n",
       "    </tr>\n",
       "    <tr>\n",
       "      <th>2</th>\n",
       "      <td>action</td>\n",
       "      <td>2000</td>\n",
       "      <td>0.0</td>\n",
       "      <td>riot-punch</td>\n",
       "    </tr>\n",
       "    <tr>\n",
       "      <th>3</th>\n",
       "      <td>action</td>\n",
       "      <td>2000</td>\n",
       "      <td>93.0</td>\n",
       "      <td>doctr</td>\n",
       "    </tr>\n",
       "    <tr>\n",
       "      <th>4</th>\n",
       "      <td>action</td>\n",
       "      <td>2000</td>\n",
       "      <td>108.0</td>\n",
       "      <td>corrupted_soul</td>\n",
       "    </tr>\n",
       "  </tbody>\n",
       "</table>\n",
       "</div>"
      ],
      "text/plain": [
       "    genre   año  playtime_forever            user_id\n",
       "0  action  2000               6.0  76561197970982479\n",
       "1  action  2000               0.0            js41637\n",
       "2  action  2000               0.0         riot-punch\n",
       "3  action  2000              93.0              doctr\n",
       "4  action  2000             108.0     corrupted_soul"
      ]
     },
     "execution_count": 49,
     "metadata": {},
     "output_type": "execute_result"
    }
   ],
   "source": [
    "df_userforgenre_final.head(5)"
   ]
  },
  {
   "cell_type": "markdown",
   "metadata": {},
   "source": [
    "### Consulta 4: def best_developer_year (año : int), Devuelve el top 3 de desarrolladores con juegos MÁS recomendados por usuarios para el año dado. (reviews.recommend = True y comentarios positivos)"
   ]
  },
  {
   "cell_type": "code",
   "execution_count": 50,
   "metadata": {},
   "outputs": [],
   "source": [
    "df_best_developer_year_review = df_reviews.copy()\n",
    "df_best_developer_year_games = df_games.copy()"
   ]
  },
  {
   "cell_type": "code",
   "execution_count": 51,
   "metadata": {},
   "outputs": [
    {
     "data": {
      "text/html": [
       "<div>\n",
       "<style scoped>\n",
       "    .dataframe tbody tr th:only-of-type {\n",
       "        vertical-align: middle;\n",
       "    }\n",
       "\n",
       "    .dataframe tbody tr th {\n",
       "        vertical-align: top;\n",
       "    }\n",
       "\n",
       "    .dataframe thead th {\n",
       "        text-align: right;\n",
       "    }\n",
       "</style>\n",
       "<table border=\"1\" class=\"dataframe\">\n",
       "  <thead>\n",
       "    <tr style=\"text-align: right;\">\n",
       "      <th></th>\n",
       "      <th>user_id</th>\n",
       "      <th>item_id</th>\n",
       "      <th>recommend</th>\n",
       "      <th>sentiment_analysis</th>\n",
       "    </tr>\n",
       "  </thead>\n",
       "  <tbody>\n",
       "    <tr>\n",
       "      <th>0</th>\n",
       "      <td>76561197970982479</td>\n",
       "      <td>1250</td>\n",
       "      <td>True</td>\n",
       "      <td>2</td>\n",
       "    </tr>\n",
       "    <tr>\n",
       "      <th>1</th>\n",
       "      <td>76561197970982479</td>\n",
       "      <td>22200</td>\n",
       "      <td>True</td>\n",
       "      <td>2</td>\n",
       "    </tr>\n",
       "  </tbody>\n",
       "</table>\n",
       "</div>"
      ],
      "text/plain": [
       "             user_id  item_id recommend  sentiment_analysis\n",
       "0  76561197970982479     1250      True                   2\n",
       "1  76561197970982479    22200      True                   2"
      ]
     },
     "execution_count": 51,
     "metadata": {},
     "output_type": "execute_result"
    }
   ],
   "source": [
    "df_best_developer_year_review.head(2)"
   ]
  },
  {
   "cell_type": "code",
   "execution_count": 52,
   "metadata": {},
   "outputs": [
    {
     "data": {
      "text/html": [
       "<div>\n",
       "<style scoped>\n",
       "    .dataframe tbody tr th:only-of-type {\n",
       "        vertical-align: middle;\n",
       "    }\n",
       "\n",
       "    .dataframe tbody tr th {\n",
       "        vertical-align: top;\n",
       "    }\n",
       "\n",
       "    .dataframe thead th {\n",
       "        text-align: right;\n",
       "    }\n",
       "</style>\n",
       "<table border=\"1\" class=\"dataframe\">\n",
       "  <thead>\n",
       "    <tr style=\"text-align: right;\">\n",
       "      <th></th>\n",
       "      <th>item_id</th>\n",
       "      <th>price</th>\n",
       "      <th>genre</th>\n",
       "      <th>año</th>\n",
       "      <th>developer</th>\n",
       "    </tr>\n",
       "  </thead>\n",
       "  <tbody>\n",
       "    <tr>\n",
       "      <th>0</th>\n",
       "      <td>761140</td>\n",
       "      <td>4.99</td>\n",
       "      <td>action</td>\n",
       "      <td>2018</td>\n",
       "      <td>kotoshiro</td>\n",
       "    </tr>\n",
       "    <tr>\n",
       "      <th>1</th>\n",
       "      <td>643980</td>\n",
       "      <td>free</td>\n",
       "      <td>free to play</td>\n",
       "      <td>2018</td>\n",
       "      <td>secret level srl</td>\n",
       "    </tr>\n",
       "  </tbody>\n",
       "</table>\n",
       "</div>"
      ],
      "text/plain": [
       "   item_id price         genre   año         developer\n",
       "0   761140  4.99        action  2018         kotoshiro\n",
       "1   643980  free  free to play  2018  secret level srl"
      ]
     },
     "execution_count": 52,
     "metadata": {},
     "output_type": "execute_result"
    }
   ],
   "source": [
    "df_best_developer_year_games.head(2)"
   ]
  },
  {
   "cell_type": "code",
   "execution_count": 53,
   "metadata": {},
   "outputs": [
    {
     "data": {
      "text/html": [
       "<div>\n",
       "<style scoped>\n",
       "    .dataframe tbody tr th:only-of-type {\n",
       "        vertical-align: middle;\n",
       "    }\n",
       "\n",
       "    .dataframe tbody tr th {\n",
       "        vertical-align: top;\n",
       "    }\n",
       "\n",
       "    .dataframe thead th {\n",
       "        text-align: right;\n",
       "    }\n",
       "</style>\n",
       "<table border=\"1\" class=\"dataframe\">\n",
       "  <thead>\n",
       "    <tr style=\"text-align: right;\">\n",
       "      <th></th>\n",
       "      <th>item_id</th>\n",
       "      <th>año</th>\n",
       "      <th>developer</th>\n",
       "    </tr>\n",
       "  </thead>\n",
       "  <tbody>\n",
       "    <tr>\n",
       "      <th>0</th>\n",
       "      <td>761140</td>\n",
       "      <td>2018</td>\n",
       "      <td>kotoshiro</td>\n",
       "    </tr>\n",
       "    <tr>\n",
       "      <th>1</th>\n",
       "      <td>643980</td>\n",
       "      <td>2018</td>\n",
       "      <td>secret level srl</td>\n",
       "    </tr>\n",
       "    <tr>\n",
       "      <th>2</th>\n",
       "      <td>670290</td>\n",
       "      <td>2017</td>\n",
       "      <td>poolians.com</td>\n",
       "    </tr>\n",
       "    <tr>\n",
       "      <th>3</th>\n",
       "      <td>767400</td>\n",
       "      <td>2017</td>\n",
       "      <td>彼岸领域</td>\n",
       "    </tr>\n",
       "    <tr>\n",
       "      <th>4</th>\n",
       "      <td>773570</td>\n",
       "      <td>0</td>\n",
       "      <td>None</td>\n",
       "    </tr>\n",
       "  </tbody>\n",
       "</table>\n",
       "</div>"
      ],
      "text/plain": [
       "   item_id   año         developer\n",
       "0   761140  2018         kotoshiro\n",
       "1   643980  2018  secret level srl\n",
       "2   670290  2017      poolians.com\n",
       "3   767400  2017              彼岸领域\n",
       "4   773570     0              None"
      ]
     },
     "execution_count": 53,
     "metadata": {},
     "output_type": "execute_result"
    }
   ],
   "source": [
    "df_best_developer_year_games.drop([\"genre\",\"price\"],axis=1,inplace=True)\n",
    "df_best_developer_year_games.head(5)"
   ]
  },
  {
   "cell_type": "code",
   "execution_count": 54,
   "metadata": {},
   "outputs": [
    {
     "data": {
      "text/html": [
       "<div>\n",
       "<style scoped>\n",
       "    .dataframe tbody tr th:only-of-type {\n",
       "        vertical-align: middle;\n",
       "    }\n",
       "\n",
       "    .dataframe tbody tr th {\n",
       "        vertical-align: top;\n",
       "    }\n",
       "\n",
       "    .dataframe thead th {\n",
       "        text-align: right;\n",
       "    }\n",
       "</style>\n",
       "<table border=\"1\" class=\"dataframe\">\n",
       "  <thead>\n",
       "    <tr style=\"text-align: right;\">\n",
       "      <th></th>\n",
       "      <th>item_id</th>\n",
       "      <th>año</th>\n",
       "      <th>developer</th>\n",
       "    </tr>\n",
       "  </thead>\n",
       "  <tbody>\n",
       "    <tr>\n",
       "      <th>0</th>\n",
       "      <td>761140</td>\n",
       "      <td>2018</td>\n",
       "      <td>kotoshiro</td>\n",
       "    </tr>\n",
       "    <tr>\n",
       "      <th>1</th>\n",
       "      <td>643980</td>\n",
       "      <td>2018</td>\n",
       "      <td>secret level srl</td>\n",
       "    </tr>\n",
       "    <tr>\n",
       "      <th>2</th>\n",
       "      <td>670290</td>\n",
       "      <td>2017</td>\n",
       "      <td>poolians.com</td>\n",
       "    </tr>\n",
       "    <tr>\n",
       "      <th>3</th>\n",
       "      <td>767400</td>\n",
       "      <td>2017</td>\n",
       "      <td>彼岸领域</td>\n",
       "    </tr>\n",
       "    <tr>\n",
       "      <th>5</th>\n",
       "      <td>772540</td>\n",
       "      <td>2018</td>\n",
       "      <td>trickjump games ltd</td>\n",
       "    </tr>\n",
       "  </tbody>\n",
       "</table>\n",
       "</div>"
      ],
      "text/plain": [
       "   item_id   año            developer\n",
       "0   761140  2018            kotoshiro\n",
       "1   643980  2018     secret level srl\n",
       "2   670290  2017         poolians.com\n",
       "3   767400  2017                 彼岸领域\n",
       "5   772540  2018  trickjump games ltd"
      ]
     },
     "execution_count": 54,
     "metadata": {},
     "output_type": "execute_result"
    }
   ],
   "source": [
    "df_best_developer_year_games = df_best_developer_year_games[(df_best_developer_year_games[\"año\"] != 0) & (df_best_developer_year_games[\"developer\"].notna())]\n",
    "df_best_developer_year_games.head(5)"
   ]
  },
  {
   "cell_type": "code",
   "execution_count": 55,
   "metadata": {},
   "outputs": [],
   "source": [
    "df_best_developer_year_review.drop(\"user_id\",axis=1,inplace=True)"
   ]
  },
  {
   "cell_type": "code",
   "execution_count": 56,
   "metadata": {},
   "outputs": [
    {
     "data": {
      "text/html": [
       "<div>\n",
       "<style scoped>\n",
       "    .dataframe tbody tr th:only-of-type {\n",
       "        vertical-align: middle;\n",
       "    }\n",
       "\n",
       "    .dataframe tbody tr th {\n",
       "        vertical-align: top;\n",
       "    }\n",
       "\n",
       "    .dataframe thead th {\n",
       "        text-align: right;\n",
       "    }\n",
       "</style>\n",
       "<table border=\"1\" class=\"dataframe\">\n",
       "  <thead>\n",
       "    <tr style=\"text-align: right;\">\n",
       "      <th></th>\n",
       "      <th>item_id</th>\n",
       "      <th>recommend</th>\n",
       "      <th>sentiment_analysis</th>\n",
       "    </tr>\n",
       "  </thead>\n",
       "  <tbody>\n",
       "    <tr>\n",
       "      <th>0</th>\n",
       "      <td>1250</td>\n",
       "      <td>True</td>\n",
       "      <td>2</td>\n",
       "    </tr>\n",
       "    <tr>\n",
       "      <th>1</th>\n",
       "      <td>22200</td>\n",
       "      <td>True</td>\n",
       "      <td>2</td>\n",
       "    </tr>\n",
       "    <tr>\n",
       "      <th>2</th>\n",
       "      <td>43110</td>\n",
       "      <td>True</td>\n",
       "      <td>2</td>\n",
       "    </tr>\n",
       "    <tr>\n",
       "      <th>3</th>\n",
       "      <td>251610</td>\n",
       "      <td>True</td>\n",
       "      <td>2</td>\n",
       "    </tr>\n",
       "    <tr>\n",
       "      <th>4</th>\n",
       "      <td>227300</td>\n",
       "      <td>True</td>\n",
       "      <td>2</td>\n",
       "    </tr>\n",
       "  </tbody>\n",
       "</table>\n",
       "</div>"
      ],
      "text/plain": [
       "   item_id recommend  sentiment_analysis\n",
       "0     1250      True                   2\n",
       "1    22200      True                   2\n",
       "2    43110      True                   2\n",
       "3   251610      True                   2\n",
       "4   227300      True                   2"
      ]
     },
     "execution_count": 56,
     "metadata": {},
     "output_type": "execute_result"
    }
   ],
   "source": [
    "df_best_developer_year_review.head(5)"
   ]
  },
  {
   "cell_type": "markdown",
   "metadata": {},
   "source": [
    "* hacemos la union de la tabla de games y reviews"
   ]
  },
  {
   "cell_type": "code",
   "execution_count": 57,
   "metadata": {},
   "outputs": [],
   "source": [
    "df_best_developer_year_final = pd.merge(df_best_developer_year_games,df_best_developer_year_review,on=\"item_id\",sort=True)"
   ]
  },
  {
   "cell_type": "markdown",
   "metadata": {},
   "source": [
    "* reseteamos el index y borramos el item_id"
   ]
  },
  {
   "cell_type": "code",
   "execution_count": 58,
   "metadata": {},
   "outputs": [],
   "source": [
    "df_best_developer_year_final.reset_index(drop=True,inplace=True)"
   ]
  },
  {
   "cell_type": "markdown",
   "metadata": {},
   "source": [
    "* hacemos una vista final de como quedó la tabla"
   ]
  },
  {
   "cell_type": "code",
   "execution_count": 59,
   "metadata": {},
   "outputs": [
    {
     "data": {
      "text/html": [
       "<div>\n",
       "<style scoped>\n",
       "    .dataframe tbody tr th:only-of-type {\n",
       "        vertical-align: middle;\n",
       "    }\n",
       "\n",
       "    .dataframe tbody tr th {\n",
       "        vertical-align: top;\n",
       "    }\n",
       "\n",
       "    .dataframe thead th {\n",
       "        text-align: right;\n",
       "    }\n",
       "</style>\n",
       "<table border=\"1\" class=\"dataframe\">\n",
       "  <thead>\n",
       "    <tr style=\"text-align: right;\">\n",
       "      <th></th>\n",
       "      <th>item_id</th>\n",
       "      <th>año</th>\n",
       "      <th>developer</th>\n",
       "      <th>recommend</th>\n",
       "      <th>sentiment_analysis</th>\n",
       "    </tr>\n",
       "  </thead>\n",
       "  <tbody>\n",
       "    <tr>\n",
       "      <th>0</th>\n",
       "      <td>10</td>\n",
       "      <td>2000</td>\n",
       "      <td>valve</td>\n",
       "      <td>True</td>\n",
       "      <td>2</td>\n",
       "    </tr>\n",
       "    <tr>\n",
       "      <th>1</th>\n",
       "      <td>10</td>\n",
       "      <td>2000</td>\n",
       "      <td>valve</td>\n",
       "      <td>True</td>\n",
       "      <td>1</td>\n",
       "    </tr>\n",
       "    <tr>\n",
       "      <th>2</th>\n",
       "      <td>10</td>\n",
       "      <td>2000</td>\n",
       "      <td>valve</td>\n",
       "      <td>True</td>\n",
       "      <td>2</td>\n",
       "    </tr>\n",
       "    <tr>\n",
       "      <th>3</th>\n",
       "      <td>10</td>\n",
       "      <td>2000</td>\n",
       "      <td>valve</td>\n",
       "      <td>True</td>\n",
       "      <td>2</td>\n",
       "    </tr>\n",
       "    <tr>\n",
       "      <th>4</th>\n",
       "      <td>10</td>\n",
       "      <td>2000</td>\n",
       "      <td>valve</td>\n",
       "      <td>True</td>\n",
       "      <td>2</td>\n",
       "    </tr>\n",
       "  </tbody>\n",
       "</table>\n",
       "</div>"
      ],
      "text/plain": [
       "   item_id   año developer recommend  sentiment_analysis\n",
       "0       10  2000     valve      True                   2\n",
       "1       10  2000     valve      True                   1\n",
       "2       10  2000     valve      True                   2\n",
       "3       10  2000     valve      True                   2\n",
       "4       10  2000     valve      True                   2"
      ]
     },
     "execution_count": 59,
     "metadata": {},
     "output_type": "execute_result"
    }
   ],
   "source": [
    "df_best_developer_year_final.head()"
   ]
  },
  {
   "cell_type": "markdown",
   "metadata": {},
   "source": [
    "### consulta 5: def developer_reviews_analysis (developer: str), se devuelve un diccionario con el nombre del desarrollador como llave y una lista con la cantidad total de registros de reseñas de usuarios que se encuentren categorizados con un análisis de sentimiento como valor positivo o negativo."
   ]
  },
  {
   "cell_type": "markdown",
   "metadata": {},
   "source": [
    "* borramos las filas con sentiment_analyst neutrales que es 1 porque no lo usamos en la consulta 4 ni 5"
   ]
  },
  {
   "cell_type": "code",
   "execution_count": 60,
   "metadata": {},
   "outputs": [
    {
     "data": {
      "text/html": [
       "<div>\n",
       "<style scoped>\n",
       "    .dataframe tbody tr th:only-of-type {\n",
       "        vertical-align: middle;\n",
       "    }\n",
       "\n",
       "    .dataframe tbody tr th {\n",
       "        vertical-align: top;\n",
       "    }\n",
       "\n",
       "    .dataframe thead th {\n",
       "        text-align: right;\n",
       "    }\n",
       "</style>\n",
       "<table border=\"1\" class=\"dataframe\">\n",
       "  <thead>\n",
       "    <tr style=\"text-align: right;\">\n",
       "      <th></th>\n",
       "      <th>item_id</th>\n",
       "      <th>año</th>\n",
       "      <th>developer</th>\n",
       "      <th>recommend</th>\n",
       "      <th>sentiment_analysis</th>\n",
       "    </tr>\n",
       "  </thead>\n",
       "  <tbody>\n",
       "    <tr>\n",
       "      <th>0</th>\n",
       "      <td>10</td>\n",
       "      <td>2000</td>\n",
       "      <td>valve</td>\n",
       "      <td>True</td>\n",
       "      <td>2</td>\n",
       "    </tr>\n",
       "    <tr>\n",
       "      <th>2</th>\n",
       "      <td>10</td>\n",
       "      <td>2000</td>\n",
       "      <td>valve</td>\n",
       "      <td>True</td>\n",
       "      <td>2</td>\n",
       "    </tr>\n",
       "    <tr>\n",
       "      <th>3</th>\n",
       "      <td>10</td>\n",
       "      <td>2000</td>\n",
       "      <td>valve</td>\n",
       "      <td>True</td>\n",
       "      <td>2</td>\n",
       "    </tr>\n",
       "    <tr>\n",
       "      <th>4</th>\n",
       "      <td>10</td>\n",
       "      <td>2000</td>\n",
       "      <td>valve</td>\n",
       "      <td>True</td>\n",
       "      <td>2</td>\n",
       "    </tr>\n",
       "    <tr>\n",
       "      <th>6</th>\n",
       "      <td>10</td>\n",
       "      <td>2000</td>\n",
       "      <td>valve</td>\n",
       "      <td>True</td>\n",
       "      <td>2</td>\n",
       "    </tr>\n",
       "    <tr>\n",
       "      <th>...</th>\n",
       "      <td>...</td>\n",
       "      <td>...</td>\n",
       "      <td>...</td>\n",
       "      <td>...</td>\n",
       "      <td>...</td>\n",
       "    </tr>\n",
       "    <tr>\n",
       "      <th>49415</th>\n",
       "      <td>521340</td>\n",
       "      <td>2016</td>\n",
       "      <td>vladimir maslov</td>\n",
       "      <td>True</td>\n",
       "      <td>2</td>\n",
       "    </tr>\n",
       "    <tr>\n",
       "      <th>49416</th>\n",
       "      <td>521430</td>\n",
       "      <td>2016</td>\n",
       "      <td>david mulder</td>\n",
       "      <td>True</td>\n",
       "      <td>2</td>\n",
       "    </tr>\n",
       "    <tr>\n",
       "      <th>49417</th>\n",
       "      <td>521570</td>\n",
       "      <td>2016</td>\n",
       "      <td>tamationgames</td>\n",
       "      <td>True</td>\n",
       "      <td>0</td>\n",
       "    </tr>\n",
       "    <tr>\n",
       "      <th>49418</th>\n",
       "      <td>521570</td>\n",
       "      <td>2016</td>\n",
       "      <td>tamationgames</td>\n",
       "      <td>True</td>\n",
       "      <td>0</td>\n",
       "    </tr>\n",
       "    <tr>\n",
       "      <th>49419</th>\n",
       "      <td>521990</td>\n",
       "      <td>2016</td>\n",
       "      <td>dawid bujak</td>\n",
       "      <td>True</td>\n",
       "      <td>2</td>\n",
       "    </tr>\n",
       "  </tbody>\n",
       "</table>\n",
       "<p>37304 rows × 5 columns</p>\n",
       "</div>"
      ],
      "text/plain": [
       "       item_id   año        developer recommend  sentiment_analysis\n",
       "0           10  2000            valve      True                   2\n",
       "2           10  2000            valve      True                   2\n",
       "3           10  2000            valve      True                   2\n",
       "4           10  2000            valve      True                   2\n",
       "6           10  2000            valve      True                   2\n",
       "...        ...   ...              ...       ...                 ...\n",
       "49415   521340  2016  vladimir maslov      True                   2\n",
       "49416   521430  2016     david mulder      True                   2\n",
       "49417   521570  2016    tamationgames      True                   0\n",
       "49418   521570  2016    tamationgames      True                   0\n",
       "49419   521990  2016      dawid bujak      True                   2\n",
       "\n",
       "[37304 rows x 5 columns]"
      ]
     },
     "execution_count": 60,
     "metadata": {},
     "output_type": "execute_result"
    }
   ],
   "source": [
    "df_best_developer_year_final = df_best_developer_year_final[df_best_developer_year_final[\"sentiment_analysis\"] != 1]\n",
    "df_best_developer_year_final"
   ]
  },
  {
   "cell_type": "markdown",
   "metadata": {},
   "source": [
    "# Exportamos los Endpoints"
   ]
  },
  {
   "cell_type": "markdown",
   "metadata": {},
   "source": [
    "* endpoint de la consulta 1"
   ]
  },
  {
   "cell_type": "code",
   "execution_count": 61,
   "metadata": {},
   "outputs": [],
   "source": [
    "df_developer.to_parquet(\"../Datasets_endpoints/endpoint_Developer.parquet\")"
   ]
  },
  {
   "cell_type": "markdown",
   "metadata": {},
   "source": [
    "* endpoint de la consulta 2"
   ]
  },
  {
   "cell_type": "code",
   "execution_count": 62,
   "metadata": {},
   "outputs": [],
   "source": [
    "df_userdata_final.to_parquet(\"../Datasets_endpoints/endpoint_userdata.parquet\")"
   ]
  },
  {
   "cell_type": "markdown",
   "metadata": {},
   "source": [
    "* endpoint de la consulta 3"
   ]
  },
  {
   "cell_type": "code",
   "execution_count": 63,
   "metadata": {},
   "outputs": [],
   "source": [
    "df_userforgenre_final.to_parquet(\"../Datasets_endpoints/enpoint_userforgenre.parquet\")"
   ]
  },
  {
   "cell_type": "markdown",
   "metadata": {},
   "source": [
    "* endpoint de la consulta 4 y 5"
   ]
  },
  {
   "cell_type": "code",
   "execution_count": 64,
   "metadata": {},
   "outputs": [],
   "source": [
    "df_best_developer_year_final.to_parquet(\"../Datasets_endpoints/endpoint_games_reviews.parquet\")"
   ]
  }
 ],
 "metadata": {
  "kernelspec": {
   "display_name": "PI1-env",
   "language": "python",
   "name": "python3"
  },
  "language_info": {
   "codemirror_mode": {
    "name": "ipython",
    "version": 3
   },
   "file_extension": ".py",
   "mimetype": "text/x-python",
   "name": "python",
   "nbconvert_exporter": "python",
   "pygments_lexer": "ipython3",
   "version": "3.11.9"
  }
 },
 "nbformat": 4,
 "nbformat_minor": 2
}
